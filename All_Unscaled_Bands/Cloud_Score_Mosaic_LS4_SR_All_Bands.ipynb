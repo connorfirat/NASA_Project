{
 "cells": [
  {
   "cell_type": "markdown",
   "id": "2fb55ad3-ea73-4495-aa2f-42606f5232c3",
   "metadata": {},
   "source": [
    "# Retrieving All Usefull Unscaled Bands of the GEE Landsat 4 Image Collection "
   ]
  },
  {
   "cell_type": "markdown",
   "id": "d418a62d-7778-493e-ab2b-7ceb6a2e69de",
   "metadata": {},
   "source": [
    "## Import Packages and Initialize GEE"
   ]
  },
  {
   "cell_type": "code",
   "execution_count": 19,
   "id": "c1a47dd5-edc3-4163-aa4e-65ae7ce72a1a",
   "metadata": {},
   "outputs": [
    {
     "data": {
      "text/html": [
       "\n",
       "            <style>\n",
       "                .geemap-dark {\n",
       "                    --jp-widgets-color: white;\n",
       "                    --jp-widgets-label-color: white;\n",
       "                    --jp-ui-font-color1: white;\n",
       "                    --jp-layout-color2: #454545;\n",
       "                    background-color: #383838;\n",
       "                }\n",
       "                    \n",
       "                .geemap-dark .jupyter-button {\n",
       "                    --jp-layout-color3: #383838;\n",
       "                }\n",
       "                \n",
       "                .geemap-colab {\n",
       "                    background-color: var(--colab-primary-surface-color, white);\n",
       "                }\n",
       "                    \n",
       "                .geemap-colab .jupyter-button {\n",
       "                    --jp-layout-color3: var(--colab-primary-surface-color, white);\n",
       "                }\n",
       "            </style>\n",
       "            "
      ],
      "text/plain": [
       "<IPython.core.display.HTML object>"
      ]
     },
     "metadata": {},
     "output_type": "display_data"
    }
   ],
   "source": [
    "##Import required Google Earth Engine python packages and check if they work in python environment\n",
    "import ee\n",
    "#ee.Authenticate(force=True) # Uncomment this if it is first time with GEE or account linking is having issues\n",
    "ee.Initialize()\n",
    "import geetools\n",
    "import geemap\n",
    "import os\n",
    "import time"
   ]
  },
  {
   "cell_type": "code",
   "execution_count": 2,
   "id": "0380e6f0",
   "metadata": {
    "scrolled": true
   },
   "outputs": [
    {
     "data": {
      "text/html": [
       "\n",
       "            <style>\n",
       "                .geemap-dark {\n",
       "                    --jp-widgets-color: white;\n",
       "                    --jp-widgets-label-color: white;\n",
       "                    --jp-ui-font-color1: white;\n",
       "                    --jp-layout-color2: #454545;\n",
       "                    background-color: #383838;\n",
       "                }\n",
       "                    \n",
       "                .geemap-dark .jupyter-button {\n",
       "                    --jp-layout-color3: #383838;\n",
       "                }\n",
       "                \n",
       "                .geemap-colab {\n",
       "                    background-color: var(--colab-primary-surface-color, white);\n",
       "                }\n",
       "                    \n",
       "                .geemap-colab .jupyter-button {\n",
       "                    --jp-layout-color3: var(--colab-primary-surface-color, white);\n",
       "                }\n",
       "            </style>\n",
       "            "
      ],
      "text/plain": [
       "<IPython.core.display.HTML object>"
      ]
     },
     "metadata": {},
     "output_type": "display_data"
    }
   ],
   "source": [
    "#import the map module that allows for mapping images to an interactive map\n",
    "Map = geemap.Map()"
   ]
  },
  {
   "cell_type": "markdown",
   "id": "fd8c95fb-a0f0-42f3-8ad8-bb9ded00f09f",
   "metadata": {},
   "source": [
    "## Import Google Earth Engine Feature Collection Data"
   ]
  },
  {
   "cell_type": "code",
   "execution_count": 3,
   "id": "c064ed89",
   "metadata": {},
   "outputs": [
    {
     "data": {
      "text/html": [
       "\n",
       "            <style>\n",
       "                .geemap-dark {\n",
       "                    --jp-widgets-color: white;\n",
       "                    --jp-widgets-label-color: white;\n",
       "                    --jp-ui-font-color1: white;\n",
       "                    --jp-layout-color2: #454545;\n",
       "                    background-color: #383838;\n",
       "                }\n",
       "                    \n",
       "                .geemap-dark .jupyter-button {\n",
       "                    --jp-layout-color3: #383838;\n",
       "                }\n",
       "                \n",
       "                .geemap-colab {\n",
       "                    background-color: var(--colab-primary-surface-color, white);\n",
       "                }\n",
       "                    \n",
       "                .geemap-colab .jupyter-button {\n",
       "                    --jp-layout-color3: var(--colab-primary-surface-color, white);\n",
       "                }\n",
       "            </style>\n",
       "            "
      ],
      "text/plain": [
       "<IPython.core.display.HTML object>"
      ]
     },
     "metadata": {},
     "output_type": "display_data"
    }
   ],
   "source": [
    "#Import the river boundary from the Google Earth Engine Server\n",
    "#Call in river in from a vector file saved into Google Earth Engine\n",
    "TN_River = ee.FeatureCollection(\"users/pjf927/TN_River_GERS_StudySite\") # You will have to download your own file (here: https://liveutk-my.sharepoint.com/:u:/r/personal/hrr794_utc_edu/Documents/GERS_Lab_Research/Data/River_Boundaries/TN_River_GERS_StudySite_UTM_Zone_16_Northern_Hemisphere.zip?csf=1&web=1&e=ZtPR3f). shp files can be upload by: https://youtu.be/_cR_ORXyo78?si=0-XDIc0OpOo_YCFi \n",
    "#Some function require geometry values to clip features\n",
    "TN_RiverGeom = TN_River.geometry() \n",
    "#Generate a square boundary around the river study area\n",
    "RiverBounds = TN_RiverGeom.bounds()"
   ]
  },
  {
   "cell_type": "markdown",
   "id": "7e9dc59b-549f-47bd-a562-26e5110b27fd",
   "metadata": {},
   "source": [
    "## Import Google Earth Engine Image Collection Data"
   ]
  },
  {
   "cell_type": "code",
   "execution_count": 4,
   "id": "995af202",
   "metadata": {},
   "outputs": [
    {
     "data": {
      "text/html": [
       "\n",
       "            <style>\n",
       "                .geemap-dark {\n",
       "                    --jp-widgets-color: white;\n",
       "                    --jp-widgets-label-color: white;\n",
       "                    --jp-ui-font-color1: white;\n",
       "                    --jp-layout-color2: #454545;\n",
       "                    background-color: #383838;\n",
       "                }\n",
       "                    \n",
       "                .geemap-dark .jupyter-button {\n",
       "                    --jp-layout-color3: #383838;\n",
       "                }\n",
       "                \n",
       "                .geemap-colab {\n",
       "                    background-color: var(--colab-primary-surface-color, white);\n",
       "                }\n",
       "                    \n",
       "                .geemap-colab .jupyter-button {\n",
       "                    --jp-layout-color3: var(--colab-primary-surface-color, white);\n",
       "                }\n",
       "            </style>\n",
       "            "
      ],
      "text/plain": [
       "<IPython.core.display.HTML object>"
      ]
     },
     "metadata": {},
     "output_type": "display_data"
    },
    {
     "name": "stdout",
     "output_type": "stream",
     "text": [
      "Landsat 4 Images:  17\n"
     ]
    }
   ],
   "source": [
    "#Call in Landsat 4 Level 2, Collection 2, Tier 1 dataset. Info found at: https://developers.google.com/earth-engine/datasets/catalog/LANDSAT_LT04_C02_T1_L2\n",
    "LS4_SR = (\n",
    "    ee.ImageCollection(\"LANDSAT/LT04/C02/T1_L2\")\n",
    "    .filterBounds(TN_River) #Filter only swath grids that cover the TN River Boundary\n",
    "    .select(['SR_B1', 'SR_B2', 'SR_B3', 'SR_B4','SR_B5', 'SR_B7', 'ST_B6', 'QA_PIXEL', 'QA_RADSAT'],['Blue', 'Green', 'Red', 'NIR', 'SWIR1', 'SWIR2', 'Kelvin', 'QA_PIXEL', 'QA_RADSAT']) #Assign imagery bands new names\n",
    "    .filterDate('1982-08-21', '1993-06-25') # First date: 1982-08-22  Last date: 1993-06-24\n",
    "    .sort('system:time_start') #Sort collection by acquisition time\n",
    ")\n",
    "\n",
    "#Get a count of all images filtered in the Landsat Surface Relectance Collection\n",
    "LS4_count_raw = LS4_SR.size().getInfo()\n",
    "print(\"Landsat 4 Images: \", LS4_count_raw)"
   ]
  },
  {
   "cell_type": "markdown",
   "id": "26c67dce-fd82-4882-94de-fda1d6a56291",
   "metadata": {},
   "source": [
    "## Function of mosaicing images of the same date together "
   ]
  },
  {
   "cell_type": "code",
   "execution_count": 5,
   "id": "22f26078",
   "metadata": {},
   "outputs": [
    {
     "data": {
      "text/html": [
       "\n",
       "            <style>\n",
       "                .geemap-dark {\n",
       "                    --jp-widgets-color: white;\n",
       "                    --jp-widgets-label-color: white;\n",
       "                    --jp-ui-font-color1: white;\n",
       "                    --jp-layout-color2: #454545;\n",
       "                    background-color: #383838;\n",
       "                }\n",
       "                    \n",
       "                .geemap-dark .jupyter-button {\n",
       "                    --jp-layout-color3: #383838;\n",
       "                }\n",
       "                \n",
       "                .geemap-colab {\n",
       "                    background-color: var(--colab-primary-surface-color, white);\n",
       "                }\n",
       "                    \n",
       "                .geemap-colab .jupyter-button {\n",
       "                    --jp-layout-color3: var(--colab-primary-surface-color, white);\n",
       "                }\n",
       "            </style>\n",
       "            "
      ],
      "text/plain": [
       "<IPython.core.display.HTML object>"
      ]
     },
     "metadata": {},
     "output_type": "display_data"
    }
   ],
   "source": [
    "#Function declaration to later use on interating through an image collection\n",
    "def mergeByDate(imgCol):\n",
    "    #Convert the image collection to a list.\n",
    "    imgList = imgCol.toList(imgCol.size())\n",
    "    \n",
    "    # Driver function for mapping the unique dates\n",
    "    def uniqueDriver(image):\n",
    "        return ee.Image(image).date().format(\"YYYY-MM-dd\")\n",
    "    \n",
    "    uniqueDates = imgList.map(uniqueDriver).distinct()\n",
    "\n",
    "    # Driver function for mapping the moasiacs\n",
    "    def mosaicDriver(date):\n",
    "        date = ee.Date(date)\n",
    "        \n",
    "        image = (imgCol\n",
    "               .filterDate(date, date.advance(1, \"day\"))\n",
    "               .mosaic())\n",
    "        \n",
    "        return image.set(\n",
    "                        \"system:time_start\", date.millis(), \n",
    "                        \"system:id\", date.format(\"YYYY-MM-dd\"),\n",
    "                        \"Date\", date.format(\"YYYY-MM-dd\"))\n",
    "    \n",
    "    mosaicImgList = uniqueDates.map(mosaicDriver)\n",
    "    \n",
    "    return ee.ImageCollection(mosaicImgList)"
   ]
  },
  {
   "cell_type": "markdown",
   "id": "30818048-7fcf-4ef4-af4d-ead291d207d4",
   "metadata": {},
   "source": [
    "## Run the mosaic by date function on the image collection"
   ]
  },
  {
   "cell_type": "code",
   "execution_count": 6,
   "id": "db02c3ec",
   "metadata": {},
   "outputs": [
    {
     "data": {
      "text/html": [
       "\n",
       "            <style>\n",
       "                .geemap-dark {\n",
       "                    --jp-widgets-color: white;\n",
       "                    --jp-widgets-label-color: white;\n",
       "                    --jp-ui-font-color1: white;\n",
       "                    --jp-layout-color2: #454545;\n",
       "                    background-color: #383838;\n",
       "                }\n",
       "                    \n",
       "                .geemap-dark .jupyter-button {\n",
       "                    --jp-layout-color3: #383838;\n",
       "                }\n",
       "                \n",
       "                .geemap-colab {\n",
       "                    background-color: var(--colab-primary-surface-color, white);\n",
       "                }\n",
       "                    \n",
       "                .geemap-colab .jupyter-button {\n",
       "                    --jp-layout-color3: var(--colab-primary-surface-color, white);\n",
       "                }\n",
       "            </style>\n",
       "            "
      ],
      "text/plain": [
       "<IPython.core.display.HTML object>"
      ]
     },
     "metadata": {},
     "output_type": "display_data"
    }
   ],
   "source": [
    "LS4_SR_Mosaic = mergeByDate(LS4_SR)"
   ]
  },
  {
   "cell_type": "markdown",
   "id": "26034a0b-e716-4bc3-8777-2010d60c0be1",
   "metadata": {},
   "source": [
    "## Function of converting the QA band bit formated data to a class of pixel (flag bit)"
   ]
  },
  {
   "cell_type": "code",
   "execution_count": 7,
   "id": "127fb656",
   "metadata": {},
   "outputs": [
    {
     "data": {
      "text/html": [
       "\n",
       "            <style>\n",
       "                .geemap-dark {\n",
       "                    --jp-widgets-color: white;\n",
       "                    --jp-widgets-label-color: white;\n",
       "                    --jp-ui-font-color1: white;\n",
       "                    --jp-layout-color2: #454545;\n",
       "                    background-color: #383838;\n",
       "                }\n",
       "                    \n",
       "                .geemap-dark .jupyter-button {\n",
       "                    --jp-layout-color3: #383838;\n",
       "                }\n",
       "                \n",
       "                .geemap-colab {\n",
       "                    background-color: var(--colab-primary-surface-color, white);\n",
       "                }\n",
       "                    \n",
       "                .geemap-colab .jupyter-button {\n",
       "                    --jp-layout-color3: var(--colab-primary-surface-color, white);\n",
       "                }\n",
       "            </style>\n",
       "            "
      ],
      "text/plain": [
       "<IPython.core.display.HTML object>"
      ]
     },
     "metadata": {},
     "output_type": "display_data"
    }
   ],
   "source": [
    "# Function declaration for classifying the QA band. QA band info can be found here on page 13: https://d9-wret.s3.us-west-2.amazonaws.com/assets/palladium/production/s3fs-public/media/files/LSDS-1619_Landsat8-9-Collection2-Level2-Science-Product-Guide-v6.pdf\n",
    "def getQABits(image, start, end, newName):\n",
    "    # Compute the bits we need to extract.\n",
    "    pattern = 0\n",
    "    for i in range(start, end+1):\n",
    "       pattern += pow(2, i)\n",
    "    # Return a single band image of the extracted QA bits, giving the band a new name.\n",
    "    return image.select([0], [newName]).bitwiseAnd(pattern).rightShift(start)"
   ]
  },
  {
   "cell_type": "markdown",
   "id": "a8fbe393-4716-46a7-bd49-25aa3a20aa5a",
   "metadata": {},
   "source": [
    "## Function of of determining the percentage of clouds within the water body boundary feature class"
   ]
  },
  {
   "cell_type": "code",
   "execution_count": 8,
   "id": "63b3091d",
   "metadata": {},
   "outputs": [
    {
     "data": {
      "text/html": [
       "\n",
       "            <style>\n",
       "                .geemap-dark {\n",
       "                    --jp-widgets-color: white;\n",
       "                    --jp-widgets-label-color: white;\n",
       "                    --jp-ui-font-color1: white;\n",
       "                    --jp-layout-color2: #454545;\n",
       "                    background-color: #383838;\n",
       "                }\n",
       "                    \n",
       "                .geemap-dark .jupyter-button {\n",
       "                    --jp-layout-color3: #383838;\n",
       "                }\n",
       "                \n",
       "                .geemap-colab {\n",
       "                    background-color: var(--colab-primary-surface-color, white);\n",
       "                }\n",
       "                    \n",
       "                .geemap-colab .jupyter-button {\n",
       "                    --jp-layout-color3: var(--colab-primary-surface-color, white);\n",
       "                }\n",
       "            </style>\n",
       "            "
      ],
      "text/plain": [
       "<IPython.core.display.HTML object>"
      ]
     },
     "metadata": {},
     "output_type": "display_data"
    }
   ],
   "source": [
    "# Function declaration to calculate the percentage of clouds within the water body boundary feature class\n",
    "def cloud_mask(image):\n",
    "    # Select the QA band\n",
    "    QA = image.select(['QA_PIXEL'])\n",
    "    # Get the internal cloud algorithm flag bit for just clouds\n",
    "    cloud_only = getQABits(QA, 3,3, 'cloud_mask').eq(1)\n",
    "    # determine how many clouds are withing the \n",
    "    cloudiness = cloud_only.reduceRegion(\n",
    "             reducer = ee.Reducer.mean(), \n",
    "             geometry = TN_RiverGeom, \n",
    "             scale = 30,\n",
    "             maxPixels = 1e13).get(\"cloud_mask\")\n",
    "    # Convert decimal fraction value to percent and return a new dictionary item of percentaage of clouds in the water body boundary feature class\n",
    "    percent = ee.Number(cloudiness).multiply(100)\n",
    "    return image.set(\"CLOUD_COVER\", percent)"
   ]
  },
  {
   "cell_type": "markdown",
   "id": "7e437cfc-0518-4f7c-b8cb-69edca82f9ee",
   "metadata": {},
   "source": [
    "## Run the cloud percentage function on the image collection"
   ]
  },
  {
   "cell_type": "code",
   "execution_count": 9,
   "id": "843d656e",
   "metadata": {},
   "outputs": [
    {
     "data": {
      "text/html": [
       "\n",
       "            <style>\n",
       "                .geemap-dark {\n",
       "                    --jp-widgets-color: white;\n",
       "                    --jp-widgets-label-color: white;\n",
       "                    --jp-ui-font-color1: white;\n",
       "                    --jp-layout-color2: #454545;\n",
       "                    background-color: #383838;\n",
       "                }\n",
       "                    \n",
       "                .geemap-dark .jupyter-button {\n",
       "                    --jp-layout-color3: #383838;\n",
       "                }\n",
       "                \n",
       "                .geemap-colab {\n",
       "                    background-color: var(--colab-primary-surface-color, white);\n",
       "                }\n",
       "                    \n",
       "                .geemap-colab .jupyter-button {\n",
       "                    --jp-layout-color3: var(--colab-primary-surface-color, white);\n",
       "                }\n",
       "            </style>\n",
       "            "
      ],
      "text/plain": [
       "<IPython.core.display.HTML object>"
      ]
     },
     "metadata": {},
     "output_type": "display_data"
    }
   ],
   "source": [
    "LS4_SR_Mask = LS4_SR_Mosaic.map(cloud_mask)"
   ]
  },
  {
   "cell_type": "markdown",
   "id": "f1974b5c-d1b8-4e03-babe-504bd278af8f",
   "metadata": {},
   "source": [
    "## Change all dictionary values in 'SPACECRAFT_ID' to 'LANDSAT_4'"
   ]
  },
  {
   "cell_type": "code",
   "execution_count": 10,
   "id": "6348405b-4c4d-4e33-96ee-f7aa59f5e37d",
   "metadata": {},
   "outputs": [
    {
     "data": {
      "text/html": [
       "\n",
       "            <style>\n",
       "                .geemap-dark {\n",
       "                    --jp-widgets-color: white;\n",
       "                    --jp-widgets-label-color: white;\n",
       "                    --jp-ui-font-color1: white;\n",
       "                    --jp-layout-color2: #454545;\n",
       "                    background-color: #383838;\n",
       "                }\n",
       "                    \n",
       "                .geemap-dark .jupyter-button {\n",
       "                    --jp-layout-color3: #383838;\n",
       "                }\n",
       "                \n",
       "                .geemap-colab {\n",
       "                    background-color: var(--colab-primary-surface-color, white);\n",
       "                }\n",
       "                    \n",
       "                .geemap-colab .jupyter-button {\n",
       "                    --jp-layout-color3: var(--colab-primary-surface-color, white);\n",
       "                }\n",
       "            </style>\n",
       "            "
      ],
      "text/plain": [
       "<IPython.core.display.HTML object>"
      ]
     },
     "metadata": {},
     "output_type": "display_data"
    }
   ],
   "source": [
    "LS4_SR_Sensor = LS4_SR_Mask.map(lambda image: image.set('SPACECRAFT_ID', 'LANDSAT_4'))"
   ]
  },
  {
   "cell_type": "markdown",
   "id": "1e2db4e1-bf0b-4c9e-a593-49da647b8e8d",
   "metadata": {},
   "source": [
    "## Convert the acqusition date time to a 'YYYY-MM-dd' format"
   ]
  },
  {
   "cell_type": "code",
   "execution_count": 11,
   "id": "e2c94d1a",
   "metadata": {},
   "outputs": [
    {
     "data": {
      "text/html": [
       "\n",
       "            <style>\n",
       "                .geemap-dark {\n",
       "                    --jp-widgets-color: white;\n",
       "                    --jp-widgets-label-color: white;\n",
       "                    --jp-ui-font-color1: white;\n",
       "                    --jp-layout-color2: #454545;\n",
       "                    background-color: #383838;\n",
       "                }\n",
       "                    \n",
       "                .geemap-dark .jupyter-button {\n",
       "                    --jp-layout-color3: #383838;\n",
       "                }\n",
       "                \n",
       "                .geemap-colab {\n",
       "                    background-color: var(--colab-primary-surface-color, white);\n",
       "                }\n",
       "                    \n",
       "                .geemap-colab .jupyter-button {\n",
       "                    --jp-layout-color3: var(--colab-primary-surface-color, white);\n",
       "                }\n",
       "            </style>\n",
       "            "
      ],
      "text/plain": [
       "<IPython.core.display.HTML object>"
      ]
     },
     "metadata": {},
     "output_type": "display_data"
    }
   ],
   "source": [
    "LS4_SR_Sensor = LS4_SR_Sensor.map(\n",
    "    lambda img: img.set({\"Date\": ee.Date(img.get(\"system:time_start\")).format(\"YYYY-MM-dd\")})\n",
    ")"
   ]
  },
  {
   "cell_type": "markdown",
   "id": "8fdd48ca-019b-4cbc-8ec0-26cb1f62b9d3",
   "metadata": {},
   "source": [
    "## Create a new image collection of images that are filtered out based on less than 30% cloud cover using the new 'CLOUD_COVER' percentage dictionary item"
   ]
  },
  {
   "cell_type": "code",
   "execution_count": 12,
   "id": "5446b994",
   "metadata": {},
   "outputs": [
    {
     "data": {
      "text/html": [
       "\n",
       "            <style>\n",
       "                .geemap-dark {\n",
       "                    --jp-widgets-color: white;\n",
       "                    --jp-widgets-label-color: white;\n",
       "                    --jp-ui-font-color1: white;\n",
       "                    --jp-layout-color2: #454545;\n",
       "                    background-color: #383838;\n",
       "                }\n",
       "                    \n",
       "                .geemap-dark .jupyter-button {\n",
       "                    --jp-layout-color3: #383838;\n",
       "                }\n",
       "                \n",
       "                .geemap-colab {\n",
       "                    background-color: var(--colab-primary-surface-color, white);\n",
       "                }\n",
       "                    \n",
       "                .geemap-colab .jupyter-button {\n",
       "                    --jp-layout-color3: var(--colab-primary-surface-color, white);\n",
       "                }\n",
       "            </style>\n",
       "            "
      ],
      "text/plain": [
       "<IPython.core.display.HTML object>"
      ]
     },
     "metadata": {},
     "output_type": "display_data"
    }
   ],
   "source": [
    "LS4_SR_Filtered = LS4_SR_Sensor.filterMetadata(\"CLOUD_COVER\",\"less_than\", 30)"
   ]
  },
  {
   "cell_type": "markdown",
   "id": "3687a55c-9269-4b08-8d66-958344d9631b",
   "metadata": {},
   "source": [
    "## Get a count of all images in the image collection"
   ]
  },
  {
   "cell_type": "code",
   "execution_count": 24,
   "id": "69100369",
   "metadata": {},
   "outputs": [
    {
     "data": {
      "text/html": [
       "\n",
       "            <style>\n",
       "                .geemap-dark {\n",
       "                    --jp-widgets-color: white;\n",
       "                    --jp-widgets-label-color: white;\n",
       "                    --jp-ui-font-color1: white;\n",
       "                    --jp-layout-color2: #454545;\n",
       "                    background-color: #383838;\n",
       "                }\n",
       "                    \n",
       "                .geemap-dark .jupyter-button {\n",
       "                    --jp-layout-color3: #383838;\n",
       "                }\n",
       "                \n",
       "                .geemap-colab {\n",
       "                    background-color: var(--colab-primary-surface-color, white);\n",
       "                }\n",
       "                    \n",
       "                .geemap-colab .jupyter-button {\n",
       "                    --jp-layout-color3: var(--colab-primary-surface-color, white);\n",
       "                }\n",
       "            </style>\n",
       "            "
      ],
      "text/plain": [
       "<IPython.core.display.HTML object>"
      ]
     },
     "metadata": {},
     "output_type": "display_data"
    },
    {
     "name": "stdout",
     "output_type": "stream",
     "text": [
      "Landsat Images:  5\n",
      "Processing Time = 0.07 Minutes\n"
     ]
    }
   ],
   "source": [
    "# Every time the .getInfo() function is used, processing time goes up. It's a good idea to use a start and endtime on the first .getInfo() to gauge how long the others will be\n",
    "start = time.time()\n",
    "All_count_preprocess = LS4_SR_Filtered.size().getInfo()\n",
    "print(\"Landsat Images: \", All_count_preprocess)\n",
    "end = time.time()\n",
    "print(\"Processing Time = \" + str(round((end - start)/60, 2)) + \" Minutes\") # time in Minutes"
   ]
  },
  {
   "cell_type": "markdown",
   "id": "5cf78114-1808-4140-9fff-652c7f1c4970",
   "metadata": {},
   "source": [
    "## Create a list of dates of the image collection form the new 'Date' dictionary item"
   ]
  },
  {
   "cell_type": "code",
   "execution_count": 17,
   "id": "8fdda327",
   "metadata": {},
   "outputs": [
    {
     "data": {
      "text/html": [
       "\n",
       "            <style>\n",
       "                .geemap-dark {\n",
       "                    --jp-widgets-color: white;\n",
       "                    --jp-widgets-label-color: white;\n",
       "                    --jp-ui-font-color1: white;\n",
       "                    --jp-layout-color2: #454545;\n",
       "                    background-color: #383838;\n",
       "                }\n",
       "                    \n",
       "                .geemap-dark .jupyter-button {\n",
       "                    --jp-layout-color3: #383838;\n",
       "                }\n",
       "                \n",
       "                .geemap-colab {\n",
       "                    background-color: var(--colab-primary-surface-color, white);\n",
       "                }\n",
       "                    \n",
       "                .geemap-colab .jupyter-button {\n",
       "                    --jp-layout-color3: var(--colab-primary-surface-color, white);\n",
       "                }\n",
       "            </style>\n",
       "            "
      ],
      "text/plain": [
       "<IPython.core.display.HTML object>"
      ]
     },
     "metadata": {},
     "output_type": "display_data"
    },
    {
     "name": "stdout",
     "output_type": "stream",
     "text": [
      "Dates in Image collection:  ['1982-12-07', '1983-01-17', '1984-03-15', '1987-05-27', '1990-08-07']\n",
      "The image collection is from 1982-12-07 to 1990-08-07\n"
     ]
    }
   ],
   "source": [
    "dates = LS4_SR_Filtered.aggregate_array(\"Date\").getInfo()\n",
    "print(\"Dates in Image collection: \", dates)\n",
    "#Print out the first and last dates of the created list\n",
    "first = dates[0]\n",
    "last = dates[-1]\n",
    "print(\"The image collection is from \" + first + \" to \" + last)"
   ]
  },
  {
   "cell_type": "markdown",
   "id": "e50cec93-c02a-423d-9599-8e7250a65bfb",
   "metadata": {},
   "source": [
    "## Get all the names of the space crafts in the image collection"
   ]
  },
  {
   "cell_type": "code",
   "execution_count": null,
   "id": "a0c1dfe7",
   "metadata": {},
   "outputs": [],
   "source": [
    "sensor = LS4_SR_Filtered.aggregate_array(\"SPACECRAFT_ID\").getInfo()\n",
    "print(\"sensor: \", sensor)"
   ]
  },
  {
   "cell_type": "markdown",
   "id": "20c45749-a90b-4d0c-af37-bc14c2551d98",
   "metadata": {},
   "source": [
    "## Clip out the entire image to the dimensions of the water body boundary feature class"
   ]
  },
  {
   "cell_type": "markdown",
   "id": "f1b80f27-5fe7-4d5c-9503-d83170608df9",
   "metadata": {},
   "source": [
    "### Uncommit these lines if you just want the pixels within that boundary. Having the whole image is useful to see where clouds are."
   ]
  },
  {
   "cell_type": "code",
   "execution_count": null,
   "id": "dc8f616f",
   "metadata": {},
   "outputs": [],
   "source": [
    "#Uncommit the last line of code if you just want the pixels within that boundary. Having the whole image is useful to see where clouds are.\n",
    "#Clip out all pixels that are IN the TN River boundary and save as a new Image Collection using the lambda function\n",
    "#LS4_SR_Clip = LS4_SR_Filtered.map(lambda image: image.clip(TN_River))"
   ]
  },
  {
   "cell_type": "markdown",
   "id": "fe3ee65b-464f-44fc-9700-6d93ab5ac0f0",
   "metadata": {},
   "source": [
    "## Create a list and cound the number of images to be later used to export the whole filetered image collection"
   ]
  },
  {
   "cell_type": "code",
   "execution_count": null,
   "id": "052f1cb4-fff9-4c10-99a6-6dc4e5158660",
   "metadata": {},
   "outputs": [],
   "source": [
    "LS4_SR_Filtered_List = LS4_SR_Filtered.toList(LS4_SR_Filtered.size())"
   ]
  },
  {
   "cell_type": "markdown",
   "id": "9418edf5-d77d-44d4-b953-704b2440eb01",
   "metadata": {},
   "source": [
    "## Create a for loop that exports all images to a folder in your local drive or your Google drive"
   ]
  },
  {
   "cell_type": "code",
   "execution_count": null,
   "id": "2d6be809-f99b-4014-92bd-fe7603d1ee4e",
   "metadata": {},
   "outputs": [],
   "source": [
    "#True color iterate images to add map to layer, export to local directory, and export to Google Drive\n",
    "for index in range(0, All_count_preprocess):\n",
    "    image = ee.Image(LS4_SR_Filtered_List.get(index))\n",
    "    layer_name = \"All_Bands_NonScaled_\" + str(dates[index]) + \"_\" + str(sensor[index])\n",
    "    #Map.addLayer(image, trueVis, layer_name, False) #Uncomment this line if you would like to see the image in the map window of the GEE map interactive\n",
    "    #filename = os.path.join(r'D:\\Thesis\\ASPRS\\GEE_Assessment\\Data\\Rasters\\True_Test', layer_name + \".tif\") #Uncomment this line if you would like to create a path to a local folder on your computer to export\n",
    "    #geemap.ee_export_image(image, filename = filename, scale = 30, region = TN_RiverGeom, file_per_band = False) #Uncomment this line if you would like to export the data localy to the declared folder. Note: Big image exports won't work\n",
    "    geemap.ee_export_image_to_drive(image, description = layer_name, folder = 'LS4_' + first + '_to_' + last, region = TN_RiverGeom, scale = 30) #Use for big image exports. Veiw progress at https://code.earthengine.google.com/tasks"
   ]
  },
  {
   "cell_type": "code",
   "execution_count": null,
   "id": "a48900b0-4752-46ae-8a68-51696cf0ffee",
   "metadata": {},
   "outputs": [],
   "source": []
  }
 ],
 "metadata": {
  "kernelspec": {
   "display_name": "Python 3 (ipykernel)",
   "language": "python",
   "name": "python3"
  },
  "language_info": {
   "codemirror_mode": {
    "name": "ipython",
    "version": 3
   },
   "file_extension": ".py",
   "mimetype": "text/x-python",
   "name": "python",
   "nbconvert_exporter": "python",
   "pygments_lexer": "ipython3",
   "version": "3.10.13"
  }
 },
 "nbformat": 4,
 "nbformat_minor": 5
}
