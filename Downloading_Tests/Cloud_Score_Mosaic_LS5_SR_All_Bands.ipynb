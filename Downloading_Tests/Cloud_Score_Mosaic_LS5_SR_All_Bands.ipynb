{
 "cells": [
  {
   "cell_type": "markdown",
   "id": "3c171969-80a6-488b-94e3-603facddaae6",
   "metadata": {},
   "source": [
    "# Retrieving All Usefull Unscaled Bands of the GEE Landsat 5 Image Collection "
   ]
  },
  {
   "cell_type": "markdown",
   "id": "e3bc37e8-642e-4397-805e-65075d829a2f",
   "metadata": {},
   "source": [
    "## Import Packages and Initialize GEE"
   ]
  },
  {
   "cell_type": "code",
   "execution_count": 23,
   "id": "87d3cbce-99f7-413c-8833-a8b2f22cfb1d",
   "metadata": {},
   "outputs": [
    {
     "data": {
      "text/html": [
       "\n",
       "            <style>\n",
       "                .geemap-dark {\n",
       "                    --jp-widgets-color: white;\n",
       "                    --jp-widgets-label-color: white;\n",
       "                    --jp-ui-font-color1: white;\n",
       "                    --jp-layout-color2: #454545;\n",
       "                    background-color: #383838;\n",
       "                }\n",
       "                    \n",
       "                .geemap-dark .jupyter-button {\n",
       "                    --jp-layout-color3: #383838;\n",
       "                }\n",
       "                \n",
       "                .geemap-colab {\n",
       "                    background-color: var(--colab-primary-surface-color, white);\n",
       "                }\n",
       "                    \n",
       "                .geemap-colab .jupyter-button {\n",
       "                    --jp-layout-color3: var(--colab-primary-surface-color, white);\n",
       "                }\n",
       "            </style>\n",
       "            "
      ],
      "text/plain": [
       "<IPython.core.display.HTML object>"
      ]
     },
     "metadata": {},
     "output_type": "display_data"
    }
   ],
   "source": [
    "##Import required Google Earth Engine python packages and check if they work in python environment\n",
    "import ee\n",
    "#ee.Authenticate(force=True) # Uncomment this if it is first time with GEE or account linking is having issues\n",
    "ee.Initialize()\n",
    "import geetools\n",
    "import geemap\n",
    "import os\n",
    "import time"
   ]
  },
  {
   "cell_type": "code",
   "execution_count": 24,
   "id": "0380e6f0",
   "metadata": {},
   "outputs": [
    {
     "data": {
      "text/html": [
       "\n",
       "            <style>\n",
       "                .geemap-dark {\n",
       "                    --jp-widgets-color: white;\n",
       "                    --jp-widgets-label-color: white;\n",
       "                    --jp-ui-font-color1: white;\n",
       "                    --jp-layout-color2: #454545;\n",
       "                    background-color: #383838;\n",
       "                }\n",
       "                    \n",
       "                .geemap-dark .jupyter-button {\n",
       "                    --jp-layout-color3: #383838;\n",
       "                }\n",
       "                \n",
       "                .geemap-colab {\n",
       "                    background-color: var(--colab-primary-surface-color, white);\n",
       "                }\n",
       "                    \n",
       "                .geemap-colab .jupyter-button {\n",
       "                    --jp-layout-color3: var(--colab-primary-surface-color, white);\n",
       "                }\n",
       "            </style>\n",
       "            "
      ],
      "text/plain": [
       "<IPython.core.display.HTML object>"
      ]
     },
     "metadata": {},
     "output_type": "display_data"
    }
   ],
   "source": [
    "#import the map module that allows for mapping images to an interactive map\n",
    "Map = geemap.Map()"
   ]
  },
  {
   "cell_type": "markdown",
   "id": "0b8b1cd0-800d-4c11-bc8e-2524ca3ef6c5",
   "metadata": {},
   "source": [
    "## Import Google Earth Engine Feature Collection Data"
   ]
  },
  {
   "cell_type": "code",
   "execution_count": 25,
   "id": "c064ed89",
   "metadata": {},
   "outputs": [
    {
     "data": {
      "text/html": [
       "\n",
       "            <style>\n",
       "                .geemap-dark {\n",
       "                    --jp-widgets-color: white;\n",
       "                    --jp-widgets-label-color: white;\n",
       "                    --jp-ui-font-color1: white;\n",
       "                    --jp-layout-color2: #454545;\n",
       "                    background-color: #383838;\n",
       "                }\n",
       "                    \n",
       "                .geemap-dark .jupyter-button {\n",
       "                    --jp-layout-color3: #383838;\n",
       "                }\n",
       "                \n",
       "                .geemap-colab {\n",
       "                    background-color: var(--colab-primary-surface-color, white);\n",
       "                }\n",
       "                    \n",
       "                .geemap-colab .jupyter-button {\n",
       "                    --jp-layout-color3: var(--colab-primary-surface-color, white);\n",
       "                }\n",
       "            </style>\n",
       "            "
      ],
      "text/plain": [
       "<IPython.core.display.HTML object>"
      ]
     },
     "metadata": {},
     "output_type": "display_data"
    }
   ],
   "source": [
    "#Import the river boundary from the Google Earth Engine Server\n",
    "#Call in river in from a vector file saved into Google Earth Engine\n",
    "TN_River = ee.FeatureCollection(\"users/pjf927/TN_River_GERS_StudySite\") # You will have to download your own file (here: https://liveutk-my.sharepoint.com/:u:/r/personal/hrr794_utc_edu/Documents/GERS_Lab_Research/Data/River_Boundaries/TN_River_GERS_StudySite_UTM_Zone_16_Northern_Hemisphere.zip?csf=1&web=1&e=ZtPR3f). shp files can be upload by: https://youtu.be/_cR_ORXyo78?si=0-XDIc0OpOo_YCFi \n",
    "#Some function require geometry values to clip features\n",
    "TN_RiverGeom = TN_River.geometry() \n",
    "#Generate a square boundary around the river study area\n",
    "RiverBounds = TN_RiverGeom.bounds()"
   ]
  },
  {
   "cell_type": "markdown",
   "id": "c0d5f782-50e1-4ebc-b6ff-e7607b866e72",
   "metadata": {},
   "source": [
    "## Import Google Earth Engine Image Collection Data"
   ]
  },
  {
   "cell_type": "code",
   "execution_count": 26,
   "id": "995af202",
   "metadata": {},
   "outputs": [
    {
     "data": {
      "text/html": [
       "\n",
       "            <style>\n",
       "                .geemap-dark {\n",
       "                    --jp-widgets-color: white;\n",
       "                    --jp-widgets-label-color: white;\n",
       "                    --jp-ui-font-color1: white;\n",
       "                    --jp-layout-color2: #454545;\n",
       "                    background-color: #383838;\n",
       "                }\n",
       "                    \n",
       "                .geemap-dark .jupyter-button {\n",
       "                    --jp-layout-color3: #383838;\n",
       "                }\n",
       "                \n",
       "                .geemap-colab {\n",
       "                    background-color: var(--colab-primary-surface-color, white);\n",
       "                }\n",
       "                    \n",
       "                .geemap-colab .jupyter-button {\n",
       "                    --jp-layout-color3: var(--colab-primary-surface-color, white);\n",
       "                }\n",
       "            </style>\n",
       "            "
      ],
      "text/plain": [
       "<IPython.core.display.HTML object>"
      ]
     },
     "metadata": {},
     "output_type": "display_data"
    },
    {
     "name": "stdout",
     "output_type": "stream",
     "text": [
      "Landsat 5 Images:  1831\n"
     ]
    }
   ],
   "source": [
    "#Call in Landsat 5 Level 2, Collection 2, Tier 1 dataset. Info found at: https://developers.google.com/earth-engine/datasets/catalog/LANDSAT_LT05_C02_T1_L2\n",
    "LS5_SR = (\n",
    "    ee.ImageCollection(\"LANDSAT/LT05/C02/T1_L2\")\n",
    "    .filterBounds(TN_River) #Filter only swath grids that cover the TN River Boundary\n",
    "    .select(['SR_B1', 'SR_B2', 'SR_B3', 'SR_B4','SR_B5', 'SR_B7', 'ST_B6', 'QA_PIXEL', 'QA_RADSAT'],['Blue', 'Green', 'Red', 'NIR', 'SWIR1', 'SWIR2', 'Kelvin', 'QA_PIXEL', 'QA_RADSAT']) #Assign imagery bands new names\n",
    "    .filterDate('1984-03-15', '2012-05-06') # First date: 1984-03-16  Last date: 2012-05-05. Recomended to process only 5 year intervals due to length of the data\n",
    "    .sort('system:time_start') #Sort collection by acquisition time\n",
    ")\n",
    "\n",
    "#Get a count of all images filtered in the Landsat Surface Relectance Collection\n",
    "LS5_count_raw = LS5_SR.size().getInfo()\n",
    "print(\"Landsat 5 Images: \", LS5_count_raw)"
   ]
  },
  {
   "cell_type": "markdown",
   "id": "1dfa1abf-d6ac-4266-8725-5ac0ed63ba7a",
   "metadata": {},
   "source": [
    "## Function of mosaicing images of the same date together "
   ]
  },
  {
   "cell_type": "code",
   "execution_count": 5,
   "id": "22f26078",
   "metadata": {},
   "outputs": [
    {
     "data": {
      "text/html": [
       "\n",
       "            <style>\n",
       "                .geemap-dark {\n",
       "                    --jp-widgets-color: white;\n",
       "                    --jp-widgets-label-color: white;\n",
       "                    --jp-ui-font-color1: white;\n",
       "                    --jp-layout-color2: #454545;\n",
       "                    background-color: #383838;\n",
       "                }\n",
       "                    \n",
       "                .geemap-dark .jupyter-button {\n",
       "                    --jp-layout-color3: #383838;\n",
       "                }\n",
       "                \n",
       "                .geemap-colab {\n",
       "                    background-color: var(--colab-primary-surface-color, white);\n",
       "                }\n",
       "                    \n",
       "                .geemap-colab .jupyter-button {\n",
       "                    --jp-layout-color3: var(--colab-primary-surface-color, white);\n",
       "                }\n",
       "            </style>\n",
       "            "
      ],
      "text/plain": [
       "<IPython.core.display.HTML object>"
      ]
     },
     "metadata": {},
     "output_type": "display_data"
    }
   ],
   "source": [
    "#Function declaration to later use on interating through an image collection\n",
    "def mergeByDate(imgCol):\n",
    "    #Convert the image collection to a list.\n",
    "    imgList = imgCol.toList(imgCol.size())\n",
    "    \n",
    "    # Driver function for mapping the unique dates\n",
    "    def uniqueDriver(image):\n",
    "        return ee.Image(image).date().format(\"YYYY-MM-dd\")\n",
    "    \n",
    "    uniqueDates = imgList.map(uniqueDriver).distinct()\n",
    "\n",
    "    # Driver function for mapping the moasiacs\n",
    "    def mosaicDriver(date):\n",
    "        date = ee.Date(date)\n",
    "        \n",
    "        image = (imgCol\n",
    "               .filterDate(date, date.advance(1, \"day\"))\n",
    "               .mosaic())\n",
    "        \n",
    "        return image.set(\n",
    "                        \"system:time_start\", date.millis(), \n",
    "                        \"system:id\", date.format(\"YYYY-MM-dd\"),\n",
    "                        \"Date\", date.format(\"YYYY-MM-dd\"))\n",
    "    \n",
    "    mosaicImgList = uniqueDates.map(mosaicDriver)\n",
    "    \n",
    "    return ee.ImageCollection(mosaicImgList)"
   ]
  },
  {
   "cell_type": "markdown",
   "id": "048f664f-4f40-434c-bbfc-f48042b58d16",
   "metadata": {},
   "source": [
    "## Run the mosaic by date function on the image collection"
   ]
  },
  {
   "cell_type": "code",
   "execution_count": 6,
   "id": "db02c3ec",
   "metadata": {},
   "outputs": [
    {
     "data": {
      "text/html": [
       "\n",
       "            <style>\n",
       "                .geemap-dark {\n",
       "                    --jp-widgets-color: white;\n",
       "                    --jp-widgets-label-color: white;\n",
       "                    --jp-ui-font-color1: white;\n",
       "                    --jp-layout-color2: #454545;\n",
       "                    background-color: #383838;\n",
       "                }\n",
       "                    \n",
       "                .geemap-dark .jupyter-button {\n",
       "                    --jp-layout-color3: #383838;\n",
       "                }\n",
       "                \n",
       "                .geemap-colab {\n",
       "                    background-color: var(--colab-primary-surface-color, white);\n",
       "                }\n",
       "                    \n",
       "                .geemap-colab .jupyter-button {\n",
       "                    --jp-layout-color3: var(--colab-primary-surface-color, white);\n",
       "                }\n",
       "            </style>\n",
       "            "
      ],
      "text/plain": [
       "<IPython.core.display.HTML object>"
      ]
     },
     "metadata": {},
     "output_type": "display_data"
    }
   ],
   "source": [
    "LS5_SR_Mosaic = mergeByDate(LS5_SR)"
   ]
  },
  {
   "cell_type": "markdown",
   "id": "043e709a-91e4-4141-a4c4-34b0ac3eba2d",
   "metadata": {},
   "source": [
    "## Function of converting the QA band bit formated data to a class of pixel (flag bit)"
   ]
  },
  {
   "cell_type": "code",
   "execution_count": 7,
   "id": "127fb656",
   "metadata": {},
   "outputs": [
    {
     "data": {
      "text/html": [
       "\n",
       "            <style>\n",
       "                .geemap-dark {\n",
       "                    --jp-widgets-color: white;\n",
       "                    --jp-widgets-label-color: white;\n",
       "                    --jp-ui-font-color1: white;\n",
       "                    --jp-layout-color2: #454545;\n",
       "                    background-color: #383838;\n",
       "                }\n",
       "                    \n",
       "                .geemap-dark .jupyter-button {\n",
       "                    --jp-layout-color3: #383838;\n",
       "                }\n",
       "                \n",
       "                .geemap-colab {\n",
       "                    background-color: var(--colab-primary-surface-color, white);\n",
       "                }\n",
       "                    \n",
       "                .geemap-colab .jupyter-button {\n",
       "                    --jp-layout-color3: var(--colab-primary-surface-color, white);\n",
       "                }\n",
       "            </style>\n",
       "            "
      ],
      "text/plain": [
       "<IPython.core.display.HTML object>"
      ]
     },
     "metadata": {},
     "output_type": "display_data"
    }
   ],
   "source": [
    "# Function declaration for classifying the QA band. QA band info can be found here on page 13: https://d9-wret.s3.us-west-2.amazonaws.com/assets/palladium/production/s3fs-public/media/files/LSDS-1619_Landsat8-9-Collection2-Level2-Science-Product-Guide-v6.pdf\n",
    "def getQABits(image, start, end, newName):\n",
    "    # Compute the bits we need to extract.\n",
    "    pattern = 0\n",
    "    for i in range(start, end+1):\n",
    "       pattern += pow(2, i)\n",
    "    # Return a single band image of the extracted QA bits, giving the band a new name.\n",
    "    return image.select([0], [newName]).bitwiseAnd(pattern).rightShift(start)"
   ]
  },
  {
   "cell_type": "markdown",
   "id": "40e85255-df81-4bd8-9aa3-d1aecc03ee3c",
   "metadata": {},
   "source": [
    "## Function of of determining the percentage of clouds within the water body boundary feature class"
   ]
  },
  {
   "cell_type": "code",
   "execution_count": 8,
   "id": "63b3091d",
   "metadata": {},
   "outputs": [
    {
     "data": {
      "text/html": [
       "\n",
       "            <style>\n",
       "                .geemap-dark {\n",
       "                    --jp-widgets-color: white;\n",
       "                    --jp-widgets-label-color: white;\n",
       "                    --jp-ui-font-color1: white;\n",
       "                    --jp-layout-color2: #454545;\n",
       "                    background-color: #383838;\n",
       "                }\n",
       "                    \n",
       "                .geemap-dark .jupyter-button {\n",
       "                    --jp-layout-color3: #383838;\n",
       "                }\n",
       "                \n",
       "                .geemap-colab {\n",
       "                    background-color: var(--colab-primary-surface-color, white);\n",
       "                }\n",
       "                    \n",
       "                .geemap-colab .jupyter-button {\n",
       "                    --jp-layout-color3: var(--colab-primary-surface-color, white);\n",
       "                }\n",
       "            </style>\n",
       "            "
      ],
      "text/plain": [
       "<IPython.core.display.HTML object>"
      ]
     },
     "metadata": {},
     "output_type": "display_data"
    }
   ],
   "source": [
    "# Function declaration to calculate the percentage of clouds within the water body boundary feature class\n",
    "def cloud_mask(image):\n",
    "    # Select the QA band.\n",
    "    QA = image.select(['QA_PIXEL'])\n",
    "    # Get the internal_cloud_algorithm_flag bit.\n",
    "    cloud_only = getQABits(QA, 3,3, 'cloud_mask').eq(1)\n",
    "    cloudiness = cloud_only.reduceRegion(\n",
    "             reducer = ee.Reducer.mean(), \n",
    "             geometry = TN_RiverGeom, \n",
    "             scale = 30,\n",
    "             maxPixels = 1e13).get(\"cloud_mask\")\n",
    "    percent = ee.Number(cloudiness).multiply(100)\n",
    "    return image.set(\"CLOUD_COVER\", percent)"
   ]
  },
  {
   "cell_type": "markdown",
   "id": "27f2cce7-d5c4-4d4f-b4ec-0ae7d50b039f",
   "metadata": {},
   "source": [
    "## Run the cloud percentage function on the image collection"
   ]
  },
  {
   "cell_type": "code",
   "execution_count": 9,
   "id": "843d656e",
   "metadata": {},
   "outputs": [
    {
     "data": {
      "text/html": [
       "\n",
       "            <style>\n",
       "                .geemap-dark {\n",
       "                    --jp-widgets-color: white;\n",
       "                    --jp-widgets-label-color: white;\n",
       "                    --jp-ui-font-color1: white;\n",
       "                    --jp-layout-color2: #454545;\n",
       "                    background-color: #383838;\n",
       "                }\n",
       "                    \n",
       "                .geemap-dark .jupyter-button {\n",
       "                    --jp-layout-color3: #383838;\n",
       "                }\n",
       "                \n",
       "                .geemap-colab {\n",
       "                    background-color: var(--colab-primary-surface-color, white);\n",
       "                }\n",
       "                    \n",
       "                .geemap-colab .jupyter-button {\n",
       "                    --jp-layout-color3: var(--colab-primary-surface-color, white);\n",
       "                }\n",
       "            </style>\n",
       "            "
      ],
      "text/plain": [
       "<IPython.core.display.HTML object>"
      ]
     },
     "metadata": {},
     "output_type": "display_data"
    }
   ],
   "source": [
    "LS5_SR_Mask = LS5_SR_Mosaic.map(cloud_mask)"
   ]
  },
  {
   "cell_type": "markdown",
   "id": "7ab126f0-7ce5-4b25-8688-fb492e9aa623",
   "metadata": {},
   "source": [
    "## Change all dictionary values in 'SPACECRAFT_ID' to 'LANDSAT_4'"
   ]
  },
  {
   "cell_type": "code",
   "execution_count": 10,
   "id": "2fa2748c-5982-4a64-a0b6-3d5f180c91d7",
   "metadata": {},
   "outputs": [
    {
     "data": {
      "text/html": [
       "\n",
       "            <style>\n",
       "                .geemap-dark {\n",
       "                    --jp-widgets-color: white;\n",
       "                    --jp-widgets-label-color: white;\n",
       "                    --jp-ui-font-color1: white;\n",
       "                    --jp-layout-color2: #454545;\n",
       "                    background-color: #383838;\n",
       "                }\n",
       "                    \n",
       "                .geemap-dark .jupyter-button {\n",
       "                    --jp-layout-color3: #383838;\n",
       "                }\n",
       "                \n",
       "                .geemap-colab {\n",
       "                    background-color: var(--colab-primary-surface-color, white);\n",
       "                }\n",
       "                    \n",
       "                .geemap-colab .jupyter-button {\n",
       "                    --jp-layout-color3: var(--colab-primary-surface-color, white);\n",
       "                }\n",
       "            </style>\n",
       "            "
      ],
      "text/plain": [
       "<IPython.core.display.HTML object>"
      ]
     },
     "metadata": {},
     "output_type": "display_data"
    }
   ],
   "source": [
    "LS5_SR_Sensor = LS5_SR_Mask.map(lambda image: image.set('SPACECRAFT_ID', 'LANDSAT_5'))"
   ]
  },
  {
   "cell_type": "markdown",
   "id": "75334f9d-b46f-405a-8147-26e847266323",
   "metadata": {},
   "source": [
    "## Convert the acqusition date time to a 'YYYY-MM-dd' format"
   ]
  },
  {
   "cell_type": "code",
   "execution_count": 11,
   "id": "e2c94d1a",
   "metadata": {},
   "outputs": [
    {
     "data": {
      "text/html": [
       "\n",
       "            <style>\n",
       "                .geemap-dark {\n",
       "                    --jp-widgets-color: white;\n",
       "                    --jp-widgets-label-color: white;\n",
       "                    --jp-ui-font-color1: white;\n",
       "                    --jp-layout-color2: #454545;\n",
       "                    background-color: #383838;\n",
       "                }\n",
       "                    \n",
       "                .geemap-dark .jupyter-button {\n",
       "                    --jp-layout-color3: #383838;\n",
       "                }\n",
       "                \n",
       "                .geemap-colab {\n",
       "                    background-color: var(--colab-primary-surface-color, white);\n",
       "                }\n",
       "                    \n",
       "                .geemap-colab .jupyter-button {\n",
       "                    --jp-layout-color3: var(--colab-primary-surface-color, white);\n",
       "                }\n",
       "            </style>\n",
       "            "
      ],
      "text/plain": [
       "<IPython.core.display.HTML object>"
      ]
     },
     "metadata": {},
     "output_type": "display_data"
    }
   ],
   "source": [
    "LS5_SR_Sensor = LS5_SR_Sensor.map(\n",
    "    lambda img: img.set({\"Date\": ee.Date(img.get(\"system:time_start\")).format(\"YYYY-MM-dd\")})\n",
    ")"
   ]
  },
  {
   "cell_type": "markdown",
   "id": "9a9b86cc-dd48-4b65-92b7-74494bb7c98f",
   "metadata": {},
   "source": [
    "## Create a new image collection of images that are filtered out based on less than 30% cloud cover using the new 'CLOUD_COVER' percentage dictionary item"
   ]
  },
  {
   "cell_type": "code",
   "execution_count": 12,
   "id": "5446b994",
   "metadata": {},
   "outputs": [
    {
     "data": {
      "text/html": [
       "\n",
       "            <style>\n",
       "                .geemap-dark {\n",
       "                    --jp-widgets-color: white;\n",
       "                    --jp-widgets-label-color: white;\n",
       "                    --jp-ui-font-color1: white;\n",
       "                    --jp-layout-color2: #454545;\n",
       "                    background-color: #383838;\n",
       "                }\n",
       "                    \n",
       "                .geemap-dark .jupyter-button {\n",
       "                    --jp-layout-color3: #383838;\n",
       "                }\n",
       "                \n",
       "                .geemap-colab {\n",
       "                    background-color: var(--colab-primary-surface-color, white);\n",
       "                }\n",
       "                    \n",
       "                .geemap-colab .jupyter-button {\n",
       "                    --jp-layout-color3: var(--colab-primary-surface-color, white);\n",
       "                }\n",
       "            </style>\n",
       "            "
      ],
      "text/plain": [
       "<IPython.core.display.HTML object>"
      ]
     },
     "metadata": {},
     "output_type": "display_data"
    }
   ],
   "source": [
    "LS5_SR_Filtered = LS5_SR_Sensor.filterMetadata(\"CLOUD_COVER\",\"less_than\", 30)"
   ]
  },
  {
   "cell_type": "markdown",
   "id": "00a16f3e-7cf5-4675-8568-a9c6217ff961",
   "metadata": {},
   "source": [
    "## Get a count of all images in the image collection"
   ]
  },
  {
   "cell_type": "code",
   "execution_count": 22,
   "id": "69100369",
   "metadata": {},
   "outputs": [
    {
     "data": {
      "text/html": [
       "\n",
       "            <style>\n",
       "                .geemap-dark {\n",
       "                    --jp-widgets-color: white;\n",
       "                    --jp-widgets-label-color: white;\n",
       "                    --jp-ui-font-color1: white;\n",
       "                    --jp-layout-color2: #454545;\n",
       "                    background-color: #383838;\n",
       "                }\n",
       "                    \n",
       "                .geemap-dark .jupyter-button {\n",
       "                    --jp-layout-color3: #383838;\n",
       "                }\n",
       "                \n",
       "                .geemap-colab {\n",
       "                    background-color: var(--colab-primary-surface-color, white);\n",
       "                }\n",
       "                    \n",
       "                .geemap-colab .jupyter-button {\n",
       "                    --jp-layout-color3: var(--colab-primary-surface-color, white);\n",
       "                }\n",
       "            </style>\n",
       "            "
      ],
      "text/plain": [
       "<IPython.core.display.HTML object>"
      ]
     },
     "metadata": {},
     "output_type": "display_data"
    },
    {
     "name": "stdout",
     "output_type": "stream",
     "text": [
      "Landsat Images:  95\n",
      "Processing Time = 1.18 Minutes\n"
     ]
    }
   ],
   "source": [
    "# Every time the .getInfo() function is used, processing time goes up. It's a good idea to use a start and endtime on the first .getInfo() to gauge how long the others will be\n",
    "start = time.time()\n",
    "All_count_preprocess = LS5_SR_Filtered.size().getInfo()\n",
    "print(\"Landsat Images: \", All_count_preprocess)\n",
    "end = time.time()\n",
    "print(\"Processing Time = \" + str(round((end - start)/60, 2)) + \" Minutes\") # time in Minutes"
   ]
  },
  {
   "cell_type": "markdown",
   "id": "dea9abc9-fd37-4a6c-8302-b438801dae04",
   "metadata": {},
   "source": [
    "## Get all the dates of the image collection form the new 'Date' dictionary item"
   ]
  },
  {
   "cell_type": "code",
   "execution_count": 14,
   "id": "8fdda327",
   "metadata": {},
   "outputs": [
    {
     "data": {
      "text/html": [
       "\n",
       "            <style>\n",
       "                .geemap-dark {\n",
       "                    --jp-widgets-color: white;\n",
       "                    --jp-widgets-label-color: white;\n",
       "                    --jp-ui-font-color1: white;\n",
       "                    --jp-layout-color2: #454545;\n",
       "                    background-color: #383838;\n",
       "                }\n",
       "                    \n",
       "                .geemap-dark .jupyter-button {\n",
       "                    --jp-layout-color3: #383838;\n",
       "                }\n",
       "                \n",
       "                .geemap-colab {\n",
       "                    background-color: var(--colab-primary-surface-color, white);\n",
       "                }\n",
       "                    \n",
       "                .geemap-colab .jupyter-button {\n",
       "                    --jp-layout-color3: var(--colab-primary-surface-color, white);\n",
       "                }\n",
       "            </style>\n",
       "            "
      ],
      "text/plain": [
       "<IPython.core.display.HTML object>"
      ]
     },
     "metadata": {},
     "output_type": "display_data"
    },
    {
     "name": "stdout",
     "output_type": "stream",
     "text": [
      "Dates in Imagecollection:  ['1999-05-29', '1999-06-21', '1999-07-07', '1999-07-16', '1999-07-23', '1999-08-01', '1999-08-17', '1999-09-02', '1999-09-25', '1999-10-27', '1999-11-05', '1999-11-12', '1999-11-28', '1999-12-07', '1999-12-23', '1999-12-30', '2000-01-15', '2000-03-12', '2000-03-28', '2000-04-29', '2000-05-06', '2000-05-15', '2000-05-22', '2000-05-31', '2000-06-07', '2000-06-23', '2000-07-02', '2000-07-09', '2000-08-03', '2000-08-19', '2000-09-04', '2000-09-11', '2000-09-27', '2000-10-13', '2000-10-22', '2000-11-30', '2000-12-09', '2000-12-25', '2001-01-10', '2001-01-26', '2001-02-18', '2001-03-06', '2001-03-22', '2001-04-16', '2001-04-23', '2001-05-02', '2001-05-18', '2001-06-10', '2001-06-19', '2001-06-26', '2001-08-22', '2001-09-14', '2001-09-23', '2001-09-30', '2001-10-09', '2001-10-25', '2001-11-01', '2001-11-10', '2001-11-17', '2001-11-26', '2001-12-03', '2001-12-19', '2001-12-28', '2002-01-04', '2002-01-13', '2002-02-14', '2002-02-21', '2002-06-22', '2002-07-08', '2002-08-09', '2002-09-01', '2002-11-13', '2002-11-29', '2002-12-06', '2002-12-22', '2003-01-07', '2003-01-23', '2003-02-08', '2003-02-24', '2003-03-12', '2003-04-13', '2003-04-29', '2003-05-24', '2003-06-09', '2003-06-25', '2003-07-27', '2003-08-12', '2003-09-04', '2003-09-13', '2003-09-20', '2003-09-29', '2003-10-15', '2003-10-22', '2003-12-02', '2003-12-25']\n",
      "The image collection is from 1999-05-29 to 2003-12-25\n"
     ]
    }
   ],
   "source": [
    "dates = LS5_SR_Filtered.aggregate_array(\"Date\").getInfo()\n",
    "print(\"Dates in Imagecollection: \", dates)\n",
    "#Print out the first and last dates of the created list\n",
    "first = dates[0]\n",
    "last = dates[-1]\n",
    "print(\"The image collection is from \" + first + \" to \" + last)"
   ]
  },
  {
   "cell_type": "markdown",
   "id": "0b3c40a8-6577-4320-852c-02bbcb8d1f76",
   "metadata": {},
   "source": [
    "## Get all the names of the space crafts in the image collection"
   ]
  },
  {
   "cell_type": "code",
   "execution_count": 18,
   "id": "7fa0bd32-d33d-47ff-a43d-68639f7b4684",
   "metadata": {},
   "outputs": [
    {
     "data": {
      "text/html": [
       "\n",
       "            <style>\n",
       "                .geemap-dark {\n",
       "                    --jp-widgets-color: white;\n",
       "                    --jp-widgets-label-color: white;\n",
       "                    --jp-ui-font-color1: white;\n",
       "                    --jp-layout-color2: #454545;\n",
       "                    background-color: #383838;\n",
       "                }\n",
       "                    \n",
       "                .geemap-dark .jupyter-button {\n",
       "                    --jp-layout-color3: #383838;\n",
       "                }\n",
       "                \n",
       "                .geemap-colab {\n",
       "                    background-color: var(--colab-primary-surface-color, white);\n",
       "                }\n",
       "                    \n",
       "                .geemap-colab .jupyter-button {\n",
       "                    --jp-layout-color3: var(--colab-primary-surface-color, white);\n",
       "                }\n",
       "            </style>\n",
       "            "
      ],
      "text/plain": [
       "<IPython.core.display.HTML object>"
      ]
     },
     "metadata": {},
     "output_type": "display_data"
    },
    {
     "name": "stdout",
     "output_type": "stream",
     "text": [
      "sensor:  ['LANDSAT_5', 'LANDSAT_5', 'LANDSAT_5', 'LANDSAT_5', 'LANDSAT_5', 'LANDSAT_5', 'LANDSAT_5', 'LANDSAT_5', 'LANDSAT_5', 'LANDSAT_5', 'LANDSAT_5', 'LANDSAT_5', 'LANDSAT_5', 'LANDSAT_5', 'LANDSAT_5', 'LANDSAT_5', 'LANDSAT_5', 'LANDSAT_5', 'LANDSAT_5', 'LANDSAT_5', 'LANDSAT_5', 'LANDSAT_5', 'LANDSAT_5', 'LANDSAT_5', 'LANDSAT_5', 'LANDSAT_5', 'LANDSAT_5', 'LANDSAT_5', 'LANDSAT_5', 'LANDSAT_5', 'LANDSAT_5', 'LANDSAT_5', 'LANDSAT_5', 'LANDSAT_5', 'LANDSAT_5', 'LANDSAT_5', 'LANDSAT_5', 'LANDSAT_5', 'LANDSAT_5', 'LANDSAT_5', 'LANDSAT_5', 'LANDSAT_5', 'LANDSAT_5', 'LANDSAT_5', 'LANDSAT_5', 'LANDSAT_5', 'LANDSAT_5', 'LANDSAT_5', 'LANDSAT_5', 'LANDSAT_5', 'LANDSAT_5', 'LANDSAT_5', 'LANDSAT_5', 'LANDSAT_5', 'LANDSAT_5', 'LANDSAT_5', 'LANDSAT_5', 'LANDSAT_5', 'LANDSAT_5', 'LANDSAT_5', 'LANDSAT_5', 'LANDSAT_5', 'LANDSAT_5', 'LANDSAT_5', 'LANDSAT_5', 'LANDSAT_5', 'LANDSAT_5', 'LANDSAT_5', 'LANDSAT_5', 'LANDSAT_5', 'LANDSAT_5', 'LANDSAT_5', 'LANDSAT_5', 'LANDSAT_5', 'LANDSAT_5', 'LANDSAT_5', 'LANDSAT_5', 'LANDSAT_5', 'LANDSAT_5', 'LANDSAT_5', 'LANDSAT_5', 'LANDSAT_5', 'LANDSAT_5', 'LANDSAT_5', 'LANDSAT_5', 'LANDSAT_5', 'LANDSAT_5', 'LANDSAT_5', 'LANDSAT_5', 'LANDSAT_5', 'LANDSAT_5', 'LANDSAT_5', 'LANDSAT_5', 'LANDSAT_5', 'LANDSAT_5']\n"
     ]
    }
   ],
   "source": [
    "sensor = LS5_SR_Filtered.aggregate_array(\"SPACECRAFT_ID\").getInfo()\n",
    "print(\"sensor: \", sensor)"
   ]
  },
  {
   "cell_type": "markdown",
   "id": "772ec943-2de4-4844-9bcf-3dfa6223e235",
   "metadata": {},
   "source": [
    "## Clip out the entire image to the dimensions of the water body boundary feature class"
   ]
  },
  {
   "cell_type": "code",
   "execution_count": 15,
   "id": "dc8f616f",
   "metadata": {},
   "outputs": [
    {
     "data": {
      "text/html": [
       "\n",
       "            <style>\n",
       "                .geemap-dark {\n",
       "                    --jp-widgets-color: white;\n",
       "                    --jp-widgets-label-color: white;\n",
       "                    --jp-ui-font-color1: white;\n",
       "                    --jp-layout-color2: #454545;\n",
       "                    background-color: #383838;\n",
       "                }\n",
       "                    \n",
       "                .geemap-dark .jupyter-button {\n",
       "                    --jp-layout-color3: #383838;\n",
       "                }\n",
       "                \n",
       "                .geemap-colab {\n",
       "                    background-color: var(--colab-primary-surface-color, white);\n",
       "                }\n",
       "                    \n",
       "                .geemap-colab .jupyter-button {\n",
       "                    --jp-layout-color3: var(--colab-primary-surface-color, white);\n",
       "                }\n",
       "            </style>\n",
       "            "
      ],
      "text/plain": [
       "<IPython.core.display.HTML object>"
      ]
     },
     "metadata": {},
     "output_type": "display_data"
    }
   ],
   "source": [
    "#Uncommit the last line of code if you just want the pixels within that boundary. Having the whole image is useful to see where clouds are.\n",
    "#Clip out all pixels that are IN the TN River boundary and save as a new Image Collection using the lambda function\n",
    "#LS5_SR_Clip = LS5_SR_Filtered.map(lambda image: image.clip(TN_River))"
   ]
  },
  {
   "cell_type": "markdown",
   "id": "c7c3a9e0-3c3a-4c70-9d45-b0eadaad15af",
   "metadata": {},
   "source": [
    "## Create a list and cound the number of images to be later used to export the whole filetered image collection"
   ]
  },
  {
   "cell_type": "code",
   "execution_count": 19,
   "id": "052f1cb4-fff9-4c10-99a6-6dc4e5158660",
   "metadata": {},
   "outputs": [
    {
     "data": {
      "text/html": [
       "\n",
       "            <style>\n",
       "                .geemap-dark {\n",
       "                    --jp-widgets-color: white;\n",
       "                    --jp-widgets-label-color: white;\n",
       "                    --jp-ui-font-color1: white;\n",
       "                    --jp-layout-color2: #454545;\n",
       "                    background-color: #383838;\n",
       "                }\n",
       "                    \n",
       "                .geemap-dark .jupyter-button {\n",
       "                    --jp-layout-color3: #383838;\n",
       "                }\n",
       "                \n",
       "                .geemap-colab {\n",
       "                    background-color: var(--colab-primary-surface-color, white);\n",
       "                }\n",
       "                    \n",
       "                .geemap-colab .jupyter-button {\n",
       "                    --jp-layout-color3: var(--colab-primary-surface-color, white);\n",
       "                }\n",
       "            </style>\n",
       "            "
      ],
      "text/plain": [
       "<IPython.core.display.HTML object>"
      ]
     },
     "metadata": {},
     "output_type": "display_data"
    }
   ],
   "source": [
    "LS5_SR_Filtered_List = LS5_SR_Filtered.toList(LS5_SR_Filtered.size())"
   ]
  },
  {
   "cell_type": "markdown",
   "id": "0e500c13-43b5-4958-9d4b-ae49ed158c39",
   "metadata": {},
   "source": [
    "## Create a for loop that exports all images to a folder in your local drive or your Google drive"
   ]
  },
  {
   "cell_type": "code",
   "execution_count": 20,
   "id": "2d6be809-f99b-4014-92bd-fe7603d1ee4e",
   "metadata": {},
   "outputs": [
    {
     "data": {
      "text/html": [
       "\n",
       "            <style>\n",
       "                .geemap-dark {\n",
       "                    --jp-widgets-color: white;\n",
       "                    --jp-widgets-label-color: white;\n",
       "                    --jp-ui-font-color1: white;\n",
       "                    --jp-layout-color2: #454545;\n",
       "                    background-color: #383838;\n",
       "                }\n",
       "                    \n",
       "                .geemap-dark .jupyter-button {\n",
       "                    --jp-layout-color3: #383838;\n",
       "                }\n",
       "                \n",
       "                .geemap-colab {\n",
       "                    background-color: var(--colab-primary-surface-color, white);\n",
       "                }\n",
       "                    \n",
       "                .geemap-colab .jupyter-button {\n",
       "                    --jp-layout-color3: var(--colab-primary-surface-color, white);\n",
       "                }\n",
       "            </style>\n",
       "            "
      ],
      "text/plain": [
       "<IPython.core.display.HTML object>"
      ]
     },
     "metadata": {},
     "output_type": "display_data"
    }
   ],
   "source": [
    "#True color iterate images to add map to layer, export to local directory, and export to Google Drive\n",
    "for index in range(0, All_count_preprocess):\n",
    "    image = ee.Image(LS5_SR_Filtered_List.get(index))\n",
    "    layer_name = \"All_Bands_NonScaled_\" + str(dates[index]) + \"_\" + str(sensor[index])\n",
    "    #Map.addLayer(image, trueVis, layer_name, False) #Uncomment this line if you would like to see the image in the map window of the GEE map interactive\n",
    "    #filename = os.path.join(r'D:\\Thesis\\ASPRS\\GEE_Assessment\\Data\\Rasters\\True_Test', layer_name + \".tif\") #Uncomment this line if you would like to create a path to a local folder on your computer to export\n",
    "    #geemap.ee_export_image(image, filename = filename, scale = 30, region = TN_RiverGeom, file_per_band = False) #Uncomment this line if you would like to export the data localy to the declared folder. Note: Big image exports won't work\n",
    "    geemap.ee_export_image_to_drive(image, description = layer_name, folder = 'LS5_' + first + '_to_' + last, region = TN_RiverGeom, scale = 30)"
   ]
  },
  {
   "cell_type": "code",
   "execution_count": null,
   "id": "fd859d23-3ffa-4af9-b8a2-b8c1d06cdf99",
   "metadata": {},
   "outputs": [],
   "source": []
  }
 ],
 "metadata": {
  "kernelspec": {
   "display_name": "Python 3 (ipykernel)",
   "language": "python",
   "name": "python3"
  },
  "language_info": {
   "codemirror_mode": {
    "name": "ipython",
    "version": 3
   },
   "file_extension": ".py",
   "mimetype": "text/x-python",
   "name": "python",
   "nbconvert_exporter": "python",
   "pygments_lexer": "ipython3",
   "version": "3.10.13"
  }
 },
 "nbformat": 4,
 "nbformat_minor": 5
}
