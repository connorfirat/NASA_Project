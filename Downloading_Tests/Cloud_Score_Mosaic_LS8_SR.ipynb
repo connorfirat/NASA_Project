{
 "cells": [
  {
   "cell_type": "code",
   "execution_count": 3,
   "id": "ffa506c3",
   "metadata": {},
   "outputs": [
    {
     "data": {
      "text/html": [
       "\n",
       "            <style>\n",
       "                .geemap-dark {\n",
       "                    --jp-widgets-color: white;\n",
       "                    --jp-widgets-label-color: white;\n",
       "                    --jp-ui-font-color1: white;\n",
       "                    --jp-layout-color2: #454545;\n",
       "                    background-color: #383838;\n",
       "                }\n",
       "                    \n",
       "                .geemap-dark .jupyter-button {\n",
       "                    --jp-layout-color3: #383838;\n",
       "                }\n",
       "                \n",
       "                .geemap-colab {\n",
       "                    background-color: var(--colab-primary-surface-color, white);\n",
       "                }\n",
       "                    \n",
       "                .geemap-colab .jupyter-button {\n",
       "                    --jp-layout-color3: var(--colab-primary-surface-color, white);\n",
       "                }\n",
       "            </style>\n",
       "            "
      ],
      "text/plain": [
       "<IPython.core.display.HTML object>"
      ]
     },
     "metadata": {},
     "output_type": "display_data"
    }
   ],
   "source": [
    "##Import required Google Earth Engine python packages and check if they work in python environment\n",
    "import ee\n",
    "ee.Initialize()\n",
    "import geetools\n",
    "import geemap\n",
    "import os\n",
    "from geemap import cartoee\n",
    "import matplotlib.pyplot as plt\n",
    "import matplotlib.patches as mpatches\n",
    "import pandas as pd \n",
    "from geetools import batch"
   ]
  },
  {
   "cell_type": "code",
   "execution_count": 4,
   "id": "0380e6f0",
   "metadata": {},
   "outputs": [
    {
     "data": {
      "text/html": [
       "\n",
       "            <style>\n",
       "                .geemap-dark {\n",
       "                    --jp-widgets-color: white;\n",
       "                    --jp-widgets-label-color: white;\n",
       "                    --jp-ui-font-color1: white;\n",
       "                    --jp-layout-color2: #454545;\n",
       "                    background-color: #383838;\n",
       "                }\n",
       "                    \n",
       "                .geemap-dark .jupyter-button {\n",
       "                    --jp-layout-color3: #383838;\n",
       "                }\n",
       "                \n",
       "                .geemap-colab {\n",
       "                    background-color: var(--colab-primary-surface-color, white);\n",
       "                }\n",
       "                    \n",
       "                .geemap-colab .jupyter-button {\n",
       "                    --jp-layout-color3: var(--colab-primary-surface-color, white);\n",
       "                }\n",
       "            </style>\n",
       "            "
      ],
      "text/plain": [
       "<IPython.core.display.HTML object>"
      ]
     },
     "metadata": {},
     "output_type": "display_data"
    }
   ],
   "source": [
    "#import the map module that allows for attaching images to an interactive map\n",
    "Map = geemap.Map()"
   ]
  },
  {
   "cell_type": "code",
   "execution_count": 5,
   "id": "c064ed89",
   "metadata": {},
   "outputs": [
    {
     "data": {
      "text/html": [
       "\n",
       "            <style>\n",
       "                .geemap-dark {\n",
       "                    --jp-widgets-color: white;\n",
       "                    --jp-widgets-label-color: white;\n",
       "                    --jp-ui-font-color1: white;\n",
       "                    --jp-layout-color2: #454545;\n",
       "                    background-color: #383838;\n",
       "                }\n",
       "                    \n",
       "                .geemap-dark .jupyter-button {\n",
       "                    --jp-layout-color3: #383838;\n",
       "                }\n",
       "                \n",
       "                .geemap-colab {\n",
       "                    background-color: var(--colab-primary-surface-color, white);\n",
       "                }\n",
       "                    \n",
       "                .geemap-colab .jupyter-button {\n",
       "                    --jp-layout-color3: var(--colab-primary-surface-color, white);\n",
       "                }\n",
       "            </style>\n",
       "            "
      ],
      "text/plain": [
       "<IPython.core.display.HTML object>"
      ]
     },
     "metadata": {},
     "output_type": "display_data"
    }
   ],
   "source": [
    "#Import the river boundary from the Google Earth Engine Server\n",
    "#Call in river in from a vector file saved into Google Earth Engine\n",
    "TN_River = ee.FeatureCollection(\"users/pjf927/TN_River_GERS_StudySite\")\n",
    "#Some function require geometry values to clip features\n",
    "TN_RiverGeom = TN_River.geometry() \n",
    "#Generate a square boundary around the river study area\n",
    "RiverBounds = TN_RiverGeom.bounds()"
   ]
  },
  {
   "cell_type": "code",
   "execution_count": 6,
   "id": "995af202",
   "metadata": {},
   "outputs": [
    {
     "data": {
      "text/html": [
       "\n",
       "            <style>\n",
       "                .geemap-dark {\n",
       "                    --jp-widgets-color: white;\n",
       "                    --jp-widgets-label-color: white;\n",
       "                    --jp-ui-font-color1: white;\n",
       "                    --jp-layout-color2: #454545;\n",
       "                    background-color: #383838;\n",
       "                }\n",
       "                    \n",
       "                .geemap-dark .jupyter-button {\n",
       "                    --jp-layout-color3: #383838;\n",
       "                }\n",
       "                \n",
       "                .geemap-colab {\n",
       "                    background-color: var(--colab-primary-surface-color, white);\n",
       "                }\n",
       "                    \n",
       "                .geemap-colab .jupyter-button {\n",
       "                    --jp-layout-color3: var(--colab-primary-surface-color, white);\n",
       "                }\n",
       "            </style>\n",
       "            "
      ],
      "text/plain": [
       "<IPython.core.display.HTML object>"
      ]
     },
     "metadata": {},
     "output_type": "display_data"
    },
    {
     "name": "stdout",
     "output_type": "stream",
     "text": [
      "Landsat 8 Images:  727\n"
     ]
    }
   ],
   "source": [
    "#Call in Landsat 5 Level 2, Collection 2, Tier 1 dataset \n",
    "LS8_SR = (\n",
    "    ee.ImageCollection(\"LANDSAT/LC08/C02/T1_L2\")\n",
    "    .filterBounds(TN_River) #Filter only swath grids that cover the TN River Boundary\n",
    "    #.select(['QA_PIXEL']) #Assign imagery bands new names\n",
    "    .select(['SR_B2', 'SR_B3', 'SR_B4', 'QA_PIXEL'],['Blue', 'Green', 'Red', 'QA_PIXEL']) #Assign imagery bands new names\n",
    "    .filterDate('2013-03-18', '2023-01-21')\n",
    "    #.filterDate('2009-05-28', '2014-05-27')\n",
    "    #.select(['QA_PIXEL'])\n",
    "    .sort('system:time_start') #Sort collection by acquisition time\n",
    ")\n",
    "\n",
    "#Get a count of all images filtered in the Landsat Surface Relectance Collection\n",
    "LS8_count_raw = LS8_SR.size().getInfo()\n",
    "print(\"Landsat 8 Images: \", LS8_count_raw)"
   ]
  },
  {
   "cell_type": "code",
   "execution_count": null,
   "id": "22f26078",
   "metadata": {},
   "outputs": [],
   "source": [
    "def mergeByDate(imgCol):\n",
    "    #Convert the image collection to a list.\n",
    "    imgList = imgCol.toList(imgCol.size())\n",
    "    \n",
    "    # Driver function for mapping the unique dates\n",
    "    def uniqueDriver(image):\n",
    "        return ee.Image(image).date().format(\"YYYY-MM-dd\")\n",
    "    \n",
    "    uniqueDates = imgList.map(uniqueDriver).distinct()\n",
    "\n",
    "    # Driver function for mapping the moasiacs\n",
    "    def mosaicDriver(date):\n",
    "        date = ee.Date(date)\n",
    "        \n",
    "        image = (imgCol\n",
    "               .filterDate(date, date.advance(1, \"day\"))\n",
    "               .mosaic())\n",
    "        \n",
    "        return image.set(\n",
    "                        \"system:time_start\", date.millis(), \n",
    "                        \"system:id\", date.format(\"YYYY-MM-dd\"),\n",
    "                        \"Date\", date.format(\"YYYY-MM-dd\"))\n",
    "    \n",
    "    mosaicImgList = uniqueDates.map(mosaicDriver)\n",
    "    \n",
    "    return ee.ImageCollection(mosaicImgList)"
   ]
  },
  {
   "cell_type": "code",
   "execution_count": null,
   "id": "db02c3ec",
   "metadata": {},
   "outputs": [],
   "source": [
    "LS8_SR_Mosaic = mergeByDate(LS8_SR)\n",
    "\n",
    "#LS9_SR_Mosaic = mergeByDate(LS9_SR.map(lambda image: image.set('SPACECRAFT_ID', 'LANDSAT_9')))"
   ]
  },
  {
   "cell_type": "code",
   "execution_count": null,
   "id": "127fb656",
   "metadata": {},
   "outputs": [],
   "source": [
    "# Function declaration from Prof. Gunn\n",
    "def getQABits(image, start, end, newName):\n",
    "    # Compute the bits we need to extract.\n",
    "    pattern = 0\n",
    "    for i in range(start, end+1):\n",
    "       pattern += pow(2, i)\n",
    "    # Return a single band image of the extracted QA bits, giving the band a new name.\n",
    "    return image.select([0], [newName]).bitwiseAnd(pattern).rightShift(start)"
   ]
  },
  {
   "cell_type": "code",
   "execution_count": null,
   "id": "63b3091d",
   "metadata": {},
   "outputs": [],
   "source": [
    "# A function to mask out cloudy pixels.\n",
    "def cloud_mask(image):\n",
    "    # Select the QA band.\n",
    "    QA = image.select(['QA_PIXEL'])\n",
    "    # Get the internal_cloud_algorithm_flag bit.\n",
    "    cloud_only = getQABits(QA, 3,3, 'cloud_mask').eq(1)\n",
    "    cloudiness = cloud_only.reduceRegion(\n",
    "             reducer = ee.Reducer.mean(), \n",
    "             geometry = TN_RiverGeom, \n",
    "             scale = 30,\n",
    "             maxPixels = 1e13).get(\"cloud_mask\")\n",
    "    percent = ee.Number(cloudiness).multiply(100)\n",
    "    return image.set(\"CLOUD_COVER\", percent)"
   ]
  },
  {
   "cell_type": "code",
   "execution_count": null,
   "id": "843d656e",
   "metadata": {},
   "outputs": [],
   "source": [
    "LS8_SR_Mask = LS8_SR_Mosaic.map(cloud_mask)\n",
    "\n",
    "LS8_SR_Sensor = LS8_SR_Mask.map(lambda image: image.set('SPACECRAFT_ID', 'LANDSAT_8'))"
   ]
  },
  {
   "cell_type": "code",
   "execution_count": null,
   "id": "e2c94d1a",
   "metadata": {},
   "outputs": [],
   "source": [
    "LS8_SR_Sensor = LS8_SR_Sensor.map(\n",
    "    lambda img: img.set({\"Date\": ee.Date(img.get(\"system:time_start\")).format(\"YYYY-MM-dd\")})\n",
    ")"
   ]
  },
  {
   "cell_type": "code",
   "execution_count": null,
   "id": "5446b994",
   "metadata": {},
   "outputs": [],
   "source": [
    "LS8_SR_Filtered = LS8_SR_Sensor.filterMetadata(\"CLOUD_COVER\",\"less_than\", 30)"
   ]
  },
  {
   "cell_type": "code",
   "execution_count": null,
   "id": "69100369",
   "metadata": {},
   "outputs": [],
   "source": [
    "All_count_preprocess = LS8_SR_Filtered.size().getInfo()\n",
    "print(\"Landsat Images: \", All_count_preprocess)"
   ]
  },
  {
   "cell_type": "code",
   "execution_count": null,
   "id": "8fdda327",
   "metadata": {},
   "outputs": [],
   "source": [
    "dates = LS8_SR_Filtered.aggregate_array(\"Date\").getInfo()\n",
    "print(\"Dates in Imagecollection: \", dates)"
   ]
  },
  {
   "cell_type": "code",
   "execution_count": null,
   "id": "a0c1dfe7",
   "metadata": {},
   "outputs": [],
   "source": [
    "sensor = LS8_SR_Filtered.aggregate_array(\"SPACECRAFT_ID\").getInfo()\n",
    "print(\"sensor: \", sensor)"
   ]
  },
  {
   "cell_type": "code",
   "execution_count": null,
   "id": "38707310",
   "metadata": {},
   "outputs": [],
   "source": [
    "# A function to mask out cloud shadow pixels.\n",
    "def cloud_shadows(image):\n",
    "    QA = image.select(['QA_PIXEL'])\n",
    "    # Get the internal_cloud_algorithm_flag bit.\n",
    "    # Get the internal_cloud_algorithm_flag bit.\n",
    "    return getQABits(QA, 4,4, 'Cloud_shadows').eq(0)\n",
    "\n",
    "# A function to mask out cloudy pixels.\n",
    "def clouds(image):\n",
    "    # Select the QA band.\n",
    "    QA = image.select(['QA_PIXEL'])\n",
    "    # Get the internal_cloud_algorithm_flag bit.\n",
    "    return getQABits(QA, 3,3, 'Cloud').eq(0)\n",
    "       \n",
    "# A function to mask out cloud shadow pixels.\n",
    "def water(image):\n",
    "    QA = image.select(['QA_PIXEL'])\n",
    "    # Get the internal_cloud_algorithm_flag bit.\n",
    "    return getQABits(QA, 7,7, 'Water').neq(0)"
   ]
  },
  {
   "cell_type": "code",
   "execution_count": null,
   "id": "d45e1f86",
   "metadata": {},
   "outputs": [],
   "source": [
    "def maskClouds(image):\n",
    "    cs = cloud_shadows(image)\n",
    "    c = clouds(image)\n",
    "    w = water(image)\n",
    "    image = image.updateMask(cs).updateMask(c)\n",
    "    return image.updateMask(w)"
   ]
  },
  {
   "cell_type": "code",
   "execution_count": null,
   "id": "dc8f616f",
   "metadata": {},
   "outputs": [],
   "source": [
    "#Clip out all pixels that are IN the TN River boundary and save as a new Image Collection using the lambda function\n",
    "LS8_SR_Clip = LS8_SR_Filtered.map(lambda image: image.clip(TN_River))"
   ]
  },
  {
   "cell_type": "code",
   "execution_count": null,
   "id": "94287daa",
   "metadata": {},
   "outputs": [],
   "source": [
    "#Apply each equation to the clipped pixels that are in the TN River boundary\n",
    "LS8_SR_Clip_Water = LS8_SR_Clip.map(maskClouds)"
   ]
  },
  {
   "cell_type": "code",
   "execution_count": null,
   "id": "b2d80644",
   "metadata": {},
   "outputs": [],
   "source": [
    "#Create fucntion that calcualtes the Quantitative index \n",
    "def QUANT(image):\n",
    "    red = image.select('Red') #Create a variable that selects the red band\n",
    "    #Run the '2677.2 * (pow(Red, 1.856))' equation\n",
    "    scale = red.multiply(0.0000275).add(-0.2)\n",
    "    quant = (((scale.pow(1.856)).multiply(2677.2)).toFloat()).rename('QUANT')\n",
    "    #return quant\n",
    "    return quant"
   ]
  },
  {
   "cell_type": "code",
   "execution_count": null,
   "id": "160597fd",
   "metadata": {},
   "outputs": [],
   "source": [
    "LS8_SR_Clip_Water_Quant = LS8_SR_Clip_Water.map(QUANT)"
   ]
  },
  {
   "cell_type": "code",
   "execution_count": null,
   "id": "2d79ce17",
   "metadata": {},
   "outputs": [],
   "source": [
    "#Create a list that collects that orders the images so they can be mapped to the dates\n",
    "LS8_SR_Clip_Water_Quant_List = LS8_SR_Clip_Water_Quant.toList(LS8_SR_Clip_Water_Quant.size())"
   ]
  },
  {
   "cell_type": "code",
   "execution_count": null,
   "id": "1111278a",
   "metadata": {},
   "outputs": [],
   "source": [
    "#QUANT iterate images to add map to layer, export to local directory, and export to Google Drive\n",
    "for index in range(0, All_count_preprocess):\n",
    "    image = ee.Image(LS8_SR_Clip_Water_Quant_List.get(index))\n",
    "    layer_name = \"QUANT_\" + str(dates[index]) + \"_\" + str(sensor[index])\n",
    "    #Map.addLayer(image, ndssiVis, layer_name, False)\n",
    "    #QUANT_file = os.path.join(r'D:\\Thesis\\ASPRS\\GEE_Assessment\\Data\\Rasters\\Quant_Test', layer_name + \".tif\")\n",
    "    #geemap.ee_export_image(image, filename = QUANT_file, scale = 30, region = TN_RiverGeom, file_per_band = True)\n",
    "    geemap.ee_export_image_to_drive(image, description = layer_name, folder = 'QUANT/2013-03-18_2023-01-21', region = TN_RiverGeom, scale = 30)"
   ]
  },
  {
   "cell_type": "code",
   "execution_count": null,
   "id": "558f8975",
   "metadata": {},
   "outputs": [],
   "source": [
    "#Clip out all pixels that are IN the TN River boundary and save as a new Image Collection using the lambda function\n",
    "LS8_SR_True = LS8_SR_Filtered.map(lambda image: image.clip(RiverBounds))"
   ]
  },
  {
   "cell_type": "code",
   "execution_count": null,
   "id": "53717e00",
   "metadata": {},
   "outputs": [],
   "source": [
    "#Applies scaling factors so images are better looking for displaying it graphs\n",
    "def applyScaleFactors(image):\n",
    "  opticalBands = image.select(['Blue', 'Green', 'Red']).multiply(0.0000275).add(-0.2)\n",
    "  return image.addBands(opticalBands, None, True) "
   ]
  },
  {
   "cell_type": "code",
   "execution_count": null,
   "id": "59bd4251",
   "metadata": {},
   "outputs": [],
   "source": [
    "#Applies the scaling factor to the image collection that has pixels AROUND the TN River boundary\n",
    "LS8_SR_True_Bounds_Scale = LS8_SR_True.map(applyScaleFactors)"
   ]
  },
  {
   "cell_type": "code",
   "execution_count": null,
   "id": "92d98390",
   "metadata": {},
   "outputs": [],
   "source": [
    "LS8_SR_True_List = LS8_SR_True.toList(LS8_SR_True.size())"
   ]
  },
  {
   "cell_type": "code",
   "execution_count": null,
   "id": "ed0db406",
   "metadata": {},
   "outputs": [],
   "source": [
    "#True color iterate images to add map to layer, export to local directory, and export to Google Drive\n",
    "for index in range(0, All_count_preprocess):\n",
    "    image = ee.Image(LS8_SR_True_List.get(index))\n",
    "    layer_name = \"True_\" + str(dates[index]) + \"_\" + str(sensor[index])\n",
    "    #Map.addLayer(image, trueVis, layer_name, False)\n",
    "    #filename = os.path.join(r'D:\\Thesis\\ASPRS\\GEE_Assessment\\Data\\Rasters\\True_Test', layer_name + \".tif\")\n",
    "    #geemap.ee_export_image(image, filename = filename, scale = 30, region = TN_RiverGeom, file_per_band = False)\n",
    "    geemap.ee_export_image_to_drive(image, description = layer_name, folder = 'True/2013-03-18_2023-01-21', region = TN_RiverGeom, scale = 30)"
   ]
  },
  {
   "cell_type": "code",
   "execution_count": null,
   "id": "799a9f56",
   "metadata": {},
   "outputs": [],
   "source": []
  }
 ],
 "metadata": {
  "kernelspec": {
   "display_name": "Python 3 (ipykernel)",
   "language": "python",
   "name": "python3"
  },
  "language_info": {
   "codemirror_mode": {
    "name": "ipython",
    "version": 3
   },
   "file_extension": ".py",
   "mimetype": "text/x-python",
   "name": "python",
   "nbconvert_exporter": "python",
   "pygments_lexer": "ipython3",
   "version": "3.10.13"
  }
 },
 "nbformat": 4,
 "nbformat_minor": 5
}
