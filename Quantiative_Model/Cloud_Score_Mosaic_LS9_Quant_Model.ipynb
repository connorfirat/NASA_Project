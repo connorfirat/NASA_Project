{
 "cells": [
  {
   "cell_type": "markdown",
   "id": "158e9f37-47d9-420d-a538-96dc8402410c",
   "metadata": {},
   "source": [
    "# Running Modeling Equation on GEE Landsat 9 Image Collection "
   ]
  },
  {
   "cell_type": "markdown",
   "id": "8362034d-187a-4749-8a05-d351c09a6ac3",
   "metadata": {},
   "source": [
    "## Import Packages and Initialize GEE"
   ]
  },
  {
   "cell_type": "code",
   "execution_count": 1,
   "id": "72ff34ee-3bb7-4669-bc58-4b21b5c2409e",
   "metadata": {},
   "outputs": [],
   "source": [
    "##Import required Google Earth Engine python packages and check if they work in python environment\n",
    "import ee\n",
    "#ee.Authenticate(force=True) # Uncomment this if it is first time with GEE or account linking is having issues\n",
    "ee.Initialize()\n",
    "import geetools\n",
    "import geemap\n",
    "import os\n",
    "import time"
   ]
  },
  {
   "cell_type": "code",
   "execution_count": 2,
   "id": "0380e6f0",
   "metadata": {},
   "outputs": [
    {
     "data": {
      "text/html": [
       "\n",
       "            <style>\n",
       "                .geemap-dark {\n",
       "                    --jp-widgets-color: white;\n",
       "                    --jp-widgets-label-color: white;\n",
       "                    --jp-ui-font-color1: white;\n",
       "                    --jp-layout-color2: #454545;\n",
       "                    background-color: #383838;\n",
       "                }\n",
       "                    \n",
       "                .geemap-dark .jupyter-button {\n",
       "                    --jp-layout-color3: #383838;\n",
       "                }\n",
       "                \n",
       "                .geemap-colab {\n",
       "                    background-color: var(--colab-primary-surface-color, white);\n",
       "                }\n",
       "                    \n",
       "                .geemap-colab .jupyter-button {\n",
       "                    --jp-layout-color3: var(--colab-primary-surface-color, white);\n",
       "                }\n",
       "            </style>\n",
       "            "
      ],
      "text/plain": [
       "<IPython.core.display.HTML object>"
      ]
     },
     "metadata": {},
     "output_type": "display_data"
    }
   ],
   "source": [
    "#import the map module that allows for attaching images to an interactive map\n",
    "Map = geemap.Map()"
   ]
  },
  {
   "cell_type": "markdown",
   "id": "2da71c69-ac05-4f98-af2d-e06bb6ba30d6",
   "metadata": {},
   "source": [
    "## Import Google Earth Engine Feature Collection Data"
   ]
  },
  {
   "cell_type": "code",
   "execution_count": 3,
   "id": "c064ed89",
   "metadata": {},
   "outputs": [
    {
     "data": {
      "text/html": [
       "\n",
       "            <style>\n",
       "                .geemap-dark {\n",
       "                    --jp-widgets-color: white;\n",
       "                    --jp-widgets-label-color: white;\n",
       "                    --jp-ui-font-color1: white;\n",
       "                    --jp-layout-color2: #454545;\n",
       "                    background-color: #383838;\n",
       "                }\n",
       "                    \n",
       "                .geemap-dark .jupyter-button {\n",
       "                    --jp-layout-color3: #383838;\n",
       "                }\n",
       "                \n",
       "                .geemap-colab {\n",
       "                    background-color: var(--colab-primary-surface-color, white);\n",
       "                }\n",
       "                    \n",
       "                .geemap-colab .jupyter-button {\n",
       "                    --jp-layout-color3: var(--colab-primary-surface-color, white);\n",
       "                }\n",
       "            </style>\n",
       "            "
      ],
      "text/plain": [
       "<IPython.core.display.HTML object>"
      ]
     },
     "metadata": {},
     "output_type": "display_data"
    }
   ],
   "source": [
    "#Import the river boundary from the Google Earth Engine Server\n",
    "#Call in river in from a vector file saved into Google Earth Engine\n",
    "TN_River = ee.FeatureCollection(\"users/pjf927/TN_River_GERS_StudySite\")\n",
    "#Some function require geometry values to clip features\n",
    "TN_RiverGeom = TN_River.geometry() \n",
    "#Generate a square boundary around the river study area\n",
    "RiverBounds = TN_RiverGeom.bounds()"
   ]
  },
  {
   "cell_type": "markdown",
   "id": "95ba9ce2-1106-424e-94e0-71cbd426eb8c",
   "metadata": {},
   "source": [
    "## Import Google Earth Engine Image Collection Data"
   ]
  },
  {
   "cell_type": "code",
   "execution_count": 4,
   "id": "995af202",
   "metadata": {},
   "outputs": [
    {
     "data": {
      "text/html": [
       "\n",
       "            <style>\n",
       "                .geemap-dark {\n",
       "                    --jp-widgets-color: white;\n",
       "                    --jp-widgets-label-color: white;\n",
       "                    --jp-ui-font-color1: white;\n",
       "                    --jp-layout-color2: #454545;\n",
       "                    background-color: #383838;\n",
       "                }\n",
       "                    \n",
       "                .geemap-dark .jupyter-button {\n",
       "                    --jp-layout-color3: #383838;\n",
       "                }\n",
       "                \n",
       "                .geemap-colab {\n",
       "                    background-color: var(--colab-primary-surface-color, white);\n",
       "                }\n",
       "                    \n",
       "                .geemap-colab .jupyter-button {\n",
       "                    --jp-layout-color3: var(--colab-primary-surface-color, white);\n",
       "                }\n",
       "            </style>\n",
       "            "
      ],
      "text/plain": [
       "<IPython.core.display.HTML object>"
      ]
     },
     "metadata": {},
     "output_type": "display_data"
    },
    {
     "name": "stdout",
     "output_type": "stream",
     "text": [
      "Landsat 9 Images:  203\n"
     ]
    }
   ],
   "source": [
    "#Call in Landsat 9 Level 2, Collection 2, Tier 1 dataset. Info found at: https://developers.google.com/earth-engine/datasets/catalog/LANDSAT_LC09_C02_T1_L2\n",
    "LS9_SR = (\n",
    "    ee.ImageCollection(\"LANDSAT/LC09/C02/T1_L2\")\n",
    "    .filterBounds(TN_River) #Filter only swath grids that cover the TN River Boundary\n",
    "    .select(['SR_B4', 'QA_PIXEL'],['Red', 'QA_PIXEL']) #Assign imagery bands new names. The modeling equation only uses the red band and the QA band to mask out land and clouds. You may have to modify this\n",
    "    .filterDate('2021-10-30', '2024-07-24') # First date: 2021-10-31  Last date: On going. Recomended to process only 5 year intervals due to length of the data\n",
    "    .sort('system:time_start') #Sort collection by acquisition time\n",
    ")\n",
    "\n",
    "#Get a count of all images filtered in the Landsat Surface Relectance Collection\n",
    "LS9_count_raw = LS9_SR.size().getInfo()\n",
    "print(\"Landsat 9 Images: \", LS9_count_raw)"
   ]
  },
  {
   "cell_type": "markdown",
   "id": "396783aa-1105-4b0a-bf75-f9e356592913",
   "metadata": {},
   "source": [
    "## Function of mosaicing images of the same date together "
   ]
  },
  {
   "cell_type": "code",
   "execution_count": 5,
   "id": "22f26078",
   "metadata": {},
   "outputs": [
    {
     "data": {
      "text/html": [
       "\n",
       "            <style>\n",
       "                .geemap-dark {\n",
       "                    --jp-widgets-color: white;\n",
       "                    --jp-widgets-label-color: white;\n",
       "                    --jp-ui-font-color1: white;\n",
       "                    --jp-layout-color2: #454545;\n",
       "                    background-color: #383838;\n",
       "                }\n",
       "                    \n",
       "                .geemap-dark .jupyter-button {\n",
       "                    --jp-layout-color3: #383838;\n",
       "                }\n",
       "                \n",
       "                .geemap-colab {\n",
       "                    background-color: var(--colab-primary-surface-color, white);\n",
       "                }\n",
       "                    \n",
       "                .geemap-colab .jupyter-button {\n",
       "                    --jp-layout-color3: var(--colab-primary-surface-color, white);\n",
       "                }\n",
       "            </style>\n",
       "            "
      ],
      "text/plain": [
       "<IPython.core.display.HTML object>"
      ]
     },
     "metadata": {},
     "output_type": "display_data"
    }
   ],
   "source": [
    "#Function declaration to later use on interating through an image collection\n",
    "def mergeByDate(imgCol):\n",
    "    #Convert the image collection to a list.\n",
    "    imgList = imgCol.toList(imgCol.size())\n",
    "    \n",
    "    # Driver function for mapping the unique dates\n",
    "    def uniqueDriver(image):\n",
    "        return ee.Image(image).date().format(\"YYYY-MM-dd\")\n",
    "    \n",
    "    uniqueDates = imgList.map(uniqueDriver).distinct()\n",
    "\n",
    "    # Driver function for mapping the moasiacs\n",
    "    def mosaicDriver(date):\n",
    "        date = ee.Date(date)\n",
    "        \n",
    "        image = (imgCol\n",
    "               .filterDate(date, date.advance(1, \"day\"))\n",
    "               .mosaic())\n",
    "        \n",
    "        return image.set(\n",
    "                        \"system:time_start\", date.millis(), \n",
    "                        \"system:id\", date.format(\"YYYY-MM-dd\"),\n",
    "                        \"Date\", date.format(\"YYYY-MM-dd\"))\n",
    "    \n",
    "    mosaicImgList = uniqueDates.map(mosaicDriver)\n",
    "    \n",
    "    return ee.ImageCollection(mosaicImgList)"
   ]
  },
  {
   "cell_type": "markdown",
   "id": "ae200969-9af4-4e21-8668-1d1d2a048d39",
   "metadata": {},
   "source": [
    "## Run the mosaic by date function on the image collection"
   ]
  },
  {
   "cell_type": "code",
   "execution_count": 6,
   "id": "db02c3ec",
   "metadata": {},
   "outputs": [
    {
     "data": {
      "text/html": [
       "\n",
       "            <style>\n",
       "                .geemap-dark {\n",
       "                    --jp-widgets-color: white;\n",
       "                    --jp-widgets-label-color: white;\n",
       "                    --jp-ui-font-color1: white;\n",
       "                    --jp-layout-color2: #454545;\n",
       "                    background-color: #383838;\n",
       "                }\n",
       "                    \n",
       "                .geemap-dark .jupyter-button {\n",
       "                    --jp-layout-color3: #383838;\n",
       "                }\n",
       "                \n",
       "                .geemap-colab {\n",
       "                    background-color: var(--colab-primary-surface-color, white);\n",
       "                }\n",
       "                    \n",
       "                .geemap-colab .jupyter-button {\n",
       "                    --jp-layout-color3: var(--colab-primary-surface-color, white);\n",
       "                }\n",
       "            </style>\n",
       "            "
      ],
      "text/plain": [
       "<IPython.core.display.HTML object>"
      ]
     },
     "metadata": {},
     "output_type": "display_data"
    }
   ],
   "source": [
    "LS9_SR_Mosaic = mergeByDate(LS9_SR)"
   ]
  },
  {
   "cell_type": "code",
   "execution_count": 7,
   "id": "127fb656",
   "metadata": {},
   "outputs": [
    {
     "data": {
      "text/html": [
       "\n",
       "            <style>\n",
       "                .geemap-dark {\n",
       "                    --jp-widgets-color: white;\n",
       "                    --jp-widgets-label-color: white;\n",
       "                    --jp-ui-font-color1: white;\n",
       "                    --jp-layout-color2: #454545;\n",
       "                    background-color: #383838;\n",
       "                }\n",
       "                    \n",
       "                .geemap-dark .jupyter-button {\n",
       "                    --jp-layout-color3: #383838;\n",
       "                }\n",
       "                \n",
       "                .geemap-colab {\n",
       "                    background-color: var(--colab-primary-surface-color, white);\n",
       "                }\n",
       "                    \n",
       "                .geemap-colab .jupyter-button {\n",
       "                    --jp-layout-color3: var(--colab-primary-surface-color, white);\n",
       "                }\n",
       "            </style>\n",
       "            "
      ],
      "text/plain": [
       "<IPython.core.display.HTML object>"
      ]
     },
     "metadata": {},
     "output_type": "display_data"
    }
   ],
   "source": [
    "# Function declaration for classifying the QA band. QA band info can be found here on page 13: https://d9-wret.s3.us-west-2.amazonaws.com/assets/palladium/production/s3fs-public/media/files/LSDS-1619_Landsat8-9-Collection2-Level2-Science-Product-Guide-v6.pdf\n",
    "def getQABits(image, start, end, newName):\n",
    "    # Compute the bits we need to extract.\n",
    "    pattern = 0\n",
    "    for i in range(start, end+1):\n",
    "       pattern += pow(2, i)\n",
    "    # Return a single band image of the extracted QA bits, giving the band a new name.\n",
    "    return image.select([0], [newName]).bitwiseAnd(pattern).rightShift(start)"
   ]
  },
  {
   "cell_type": "markdown",
   "id": "4f5f19b3-d81a-4cb2-832c-60a3917f840c",
   "metadata": {},
   "source": [
    "## Function of determining the percentage of clouds within the water body boundary feature class"
   ]
  },
  {
   "cell_type": "code",
   "execution_count": 8,
   "id": "63b3091d",
   "metadata": {},
   "outputs": [
    {
     "data": {
      "text/html": [
       "\n",
       "            <style>\n",
       "                .geemap-dark {\n",
       "                    --jp-widgets-color: white;\n",
       "                    --jp-widgets-label-color: white;\n",
       "                    --jp-ui-font-color1: white;\n",
       "                    --jp-layout-color2: #454545;\n",
       "                    background-color: #383838;\n",
       "                }\n",
       "                    \n",
       "                .geemap-dark .jupyter-button {\n",
       "                    --jp-layout-color3: #383838;\n",
       "                }\n",
       "                \n",
       "                .geemap-colab {\n",
       "                    background-color: var(--colab-primary-surface-color, white);\n",
       "                }\n",
       "                    \n",
       "                .geemap-colab .jupyter-button {\n",
       "                    --jp-layout-color3: var(--colab-primary-surface-color, white);\n",
       "                }\n",
       "            </style>\n",
       "            "
      ],
      "text/plain": [
       "<IPython.core.display.HTML object>"
      ]
     },
     "metadata": {},
     "output_type": "display_data"
    }
   ],
   "source": [
    "# Function declaration to calculate the percentage of clouds within the water body boundary feature class\n",
    "def cloud_mask(image):\n",
    "    # Select the QA band.\n",
    "    QA = image.select(['QA_PIXEL'])\n",
    "    # Get the internal_cloud_algorithm_flag bit.\n",
    "    cloud_only = getQABits(QA, 3,3, 'cloud_mask').eq(1)\n",
    "    cloudiness = cloud_only.reduceRegion(\n",
    "             reducer = ee.Reducer.mean(), \n",
    "             geometry = TN_RiverGeom, \n",
    "             scale = 30,\n",
    "             maxPixels = 1e13).get(\"cloud_mask\")\n",
    "    percent = ee.Number(cloudiness).multiply(100)\n",
    "    return image.set(\"CLOUD_COVER\", percent)"
   ]
  },
  {
   "cell_type": "markdown",
   "id": "67cc82ac-b00b-4416-93e3-47b493137414",
   "metadata": {},
   "source": [
    "## Run the cloud percentage function on the image collection"
   ]
  },
  {
   "cell_type": "code",
   "execution_count": 9,
   "id": "843d656e",
   "metadata": {},
   "outputs": [
    {
     "data": {
      "text/html": [
       "\n",
       "            <style>\n",
       "                .geemap-dark {\n",
       "                    --jp-widgets-color: white;\n",
       "                    --jp-widgets-label-color: white;\n",
       "                    --jp-ui-font-color1: white;\n",
       "                    --jp-layout-color2: #454545;\n",
       "                    background-color: #383838;\n",
       "                }\n",
       "                    \n",
       "                .geemap-dark .jupyter-button {\n",
       "                    --jp-layout-color3: #383838;\n",
       "                }\n",
       "                \n",
       "                .geemap-colab {\n",
       "                    background-color: var(--colab-primary-surface-color, white);\n",
       "                }\n",
       "                    \n",
       "                .geemap-colab .jupyter-button {\n",
       "                    --jp-layout-color3: var(--colab-primary-surface-color, white);\n",
       "                }\n",
       "            </style>\n",
       "            "
      ],
      "text/plain": [
       "<IPython.core.display.HTML object>"
      ]
     },
     "metadata": {},
     "output_type": "display_data"
    }
   ],
   "source": [
    "LS9_SR_Mask = LS9_SR_Mosaic.map(cloud_mask)"
   ]
  },
  {
   "cell_type": "markdown",
   "id": "a01c1cb0-6b17-4a2a-a5ee-0708b5a1e00c",
   "metadata": {},
   "source": [
    "## Change all dictionary values in 'SPACECRAFT_ID' to 'LANDSAT_9'"
   ]
  },
  {
   "cell_type": "code",
   "execution_count": 10,
   "id": "ea6ff305-1575-4d32-974c-ddb25e8b11c4",
   "metadata": {},
   "outputs": [
    {
     "data": {
      "text/html": [
       "\n",
       "            <style>\n",
       "                .geemap-dark {\n",
       "                    --jp-widgets-color: white;\n",
       "                    --jp-widgets-label-color: white;\n",
       "                    --jp-ui-font-color1: white;\n",
       "                    --jp-layout-color2: #454545;\n",
       "                    background-color: #383838;\n",
       "                }\n",
       "                    \n",
       "                .geemap-dark .jupyter-button {\n",
       "                    --jp-layout-color3: #383838;\n",
       "                }\n",
       "                \n",
       "                .geemap-colab {\n",
       "                    background-color: var(--colab-primary-surface-color, white);\n",
       "                }\n",
       "                    \n",
       "                .geemap-colab .jupyter-button {\n",
       "                    --jp-layout-color3: var(--colab-primary-surface-color, white);\n",
       "                }\n",
       "            </style>\n",
       "            "
      ],
      "text/plain": [
       "<IPython.core.display.HTML object>"
      ]
     },
     "metadata": {},
     "output_type": "display_data"
    }
   ],
   "source": [
    "LS9_SR_Sensor = LS9_SR_Mask.map(lambda image: image.set('SPACECRAFT_ID', 'LANDSAT_9'))"
   ]
  },
  {
   "cell_type": "markdown",
   "id": "dbd9f37b-426e-4724-9978-be925cdfe7b7",
   "metadata": {},
   "source": [
    "## Convert the acqusition date time to a 'YYYY-MM-dd' format"
   ]
  },
  {
   "cell_type": "code",
   "execution_count": 11,
   "id": "e2c94d1a",
   "metadata": {},
   "outputs": [
    {
     "data": {
      "text/html": [
       "\n",
       "            <style>\n",
       "                .geemap-dark {\n",
       "                    --jp-widgets-color: white;\n",
       "                    --jp-widgets-label-color: white;\n",
       "                    --jp-ui-font-color1: white;\n",
       "                    --jp-layout-color2: #454545;\n",
       "                    background-color: #383838;\n",
       "                }\n",
       "                    \n",
       "                .geemap-dark .jupyter-button {\n",
       "                    --jp-layout-color3: #383838;\n",
       "                }\n",
       "                \n",
       "                .geemap-colab {\n",
       "                    background-color: var(--colab-primary-surface-color, white);\n",
       "                }\n",
       "                    \n",
       "                .geemap-colab .jupyter-button {\n",
       "                    --jp-layout-color3: var(--colab-primary-surface-color, white);\n",
       "                }\n",
       "            </style>\n",
       "            "
      ],
      "text/plain": [
       "<IPython.core.display.HTML object>"
      ]
     },
     "metadata": {},
     "output_type": "display_data"
    }
   ],
   "source": [
    "LS9_SR_Sensor = LS9_SR_Sensor.map(\n",
    "    lambda img: img.set({\"Date\": ee.Date(img.get(\"system:time_start\")).format(\"YYYY-MM-dd\")})\n",
    ")"
   ]
  },
  {
   "cell_type": "markdown",
   "id": "21e7ec77-858b-43d0-b457-591cfc658254",
   "metadata": {},
   "source": [
    "## Create a new image collection of images that are filtered out based on less than 30% cloud cover using the new 'CLOUD_COVER' percentage dictionary item"
   ]
  },
  {
   "cell_type": "code",
   "execution_count": 12,
   "id": "5446b994",
   "metadata": {},
   "outputs": [
    {
     "data": {
      "text/html": [
       "\n",
       "            <style>\n",
       "                .geemap-dark {\n",
       "                    --jp-widgets-color: white;\n",
       "                    --jp-widgets-label-color: white;\n",
       "                    --jp-ui-font-color1: white;\n",
       "                    --jp-layout-color2: #454545;\n",
       "                    background-color: #383838;\n",
       "                }\n",
       "                    \n",
       "                .geemap-dark .jupyter-button {\n",
       "                    --jp-layout-color3: #383838;\n",
       "                }\n",
       "                \n",
       "                .geemap-colab {\n",
       "                    background-color: var(--colab-primary-surface-color, white);\n",
       "                }\n",
       "                    \n",
       "                .geemap-colab .jupyter-button {\n",
       "                    --jp-layout-color3: var(--colab-primary-surface-color, white);\n",
       "                }\n",
       "            </style>\n",
       "            "
      ],
      "text/plain": [
       "<IPython.core.display.HTML object>"
      ]
     },
     "metadata": {},
     "output_type": "display_data"
    }
   ],
   "source": [
    "LS9_SR_Filtered = LS9_SR_Sensor.filterMetadata(\"CLOUD_COVER\",\"less_than\", 30)"
   ]
  },
  {
   "cell_type": "markdown",
   "id": "31ea3a7b-d53b-4c97-8b7f-501ea1d099be",
   "metadata": {},
   "source": [
    "## Get a count of all images in the image collection"
   ]
  },
  {
   "cell_type": "code",
   "execution_count": 13,
   "id": "69100369",
   "metadata": {},
   "outputs": [
    {
     "data": {
      "text/html": [
       "\n",
       "            <style>\n",
       "                .geemap-dark {\n",
       "                    --jp-widgets-color: white;\n",
       "                    --jp-widgets-label-color: white;\n",
       "                    --jp-ui-font-color1: white;\n",
       "                    --jp-layout-color2: #454545;\n",
       "                    background-color: #383838;\n",
       "                }\n",
       "                    \n",
       "                .geemap-dark .jupyter-button {\n",
       "                    --jp-layout-color3: #383838;\n",
       "                }\n",
       "                \n",
       "                .geemap-colab {\n",
       "                    background-color: var(--colab-primary-surface-color, white);\n",
       "                }\n",
       "                    \n",
       "                .geemap-colab .jupyter-button {\n",
       "                    --jp-layout-color3: var(--colab-primary-surface-color, white);\n",
       "                }\n",
       "            </style>\n",
       "            "
      ],
      "text/plain": [
       "<IPython.core.display.HTML object>"
      ]
     },
     "metadata": {},
     "output_type": "display_data"
    },
    {
     "name": "stdout",
     "output_type": "stream",
     "text": [
      "Landsat Images:  51\n",
      "Processing Time = 3.01 Minutes\n"
     ]
    }
   ],
   "source": [
    "# Every time the .getInfo() function is used, processing time goes up. It's a good idea to use a start and endtime on the first .getInfo() to gauge how long the others will be\n",
    "start = time.time()\n",
    "All_count_preprocess = LS9_SR_Filtered.size().getInfo()\n",
    "print(\"Landsat Images: \", All_count_preprocess)\n",
    "end = time.time()\n",
    "print(\"Processing Time = \" + str(round((end - start)/60, 2)) + \" Minutes\") # time in Minutes"
   ]
  },
  {
   "cell_type": "markdown",
   "id": "ed826b36-353f-482a-809e-0a6af791b0dc",
   "metadata": {},
   "source": [
    "## Get all the dates of the image collection form the new 'Date' dictionary item"
   ]
  },
  {
   "cell_type": "code",
   "execution_count": 14,
   "id": "8fdda327",
   "metadata": {},
   "outputs": [
    {
     "data": {
      "text/html": [
       "\n",
       "            <style>\n",
       "                .geemap-dark {\n",
       "                    --jp-widgets-color: white;\n",
       "                    --jp-widgets-label-color: white;\n",
       "                    --jp-ui-font-color1: white;\n",
       "                    --jp-layout-color2: #454545;\n",
       "                    background-color: #383838;\n",
       "                }\n",
       "                    \n",
       "                .geemap-dark .jupyter-button {\n",
       "                    --jp-layout-color3: #383838;\n",
       "                }\n",
       "                \n",
       "                .geemap-colab {\n",
       "                    background-color: var(--colab-primary-surface-color, white);\n",
       "                }\n",
       "                    \n",
       "                .geemap-colab .jupyter-button {\n",
       "                    --jp-layout-color3: var(--colab-primary-surface-color, white);\n",
       "                }\n",
       "            </style>\n",
       "            "
      ],
      "text/plain": [
       "<IPython.core.display.HTML object>"
      ]
     },
     "metadata": {},
     "output_type": "display_data"
    },
    {
     "name": "stdout",
     "output_type": "stream",
     "text": [
      "Dates in Imagecollection:  ['2021-11-10', '2022-01-12', '2022-02-13', '2022-02-20', '2022-03-01', '2022-03-08', '2022-03-24', '2022-05-20', '2022-06-05', '2022-06-21', '2022-07-07', '2022-07-14', '2022-07-23', '2022-08-08', '2022-08-31', '2022-09-09', '2022-09-16', '2022-10-11', '2022-10-27', '2022-11-03', '2022-11-19', '2022-11-28', '2023-01-06', '2023-03-04', '2023-03-20', '2023-03-27', '2023-04-12', '2023-06-08', '2023-07-10', '2023-07-17', '2023-07-26', '2023-09-03', '2023-09-12', '2023-09-19', '2023-09-28', '2023-10-21', '2023-11-06', '2023-12-08', '2024-01-02', '2024-01-18', '2024-02-03', '2024-02-19', '2024-02-26', '2024-03-13', '2024-03-29', '2024-04-07', '2024-04-14', '2024-04-23', '2024-06-10', '2024-06-26', '2024-07-12']\n",
      "The image collection is from 2021-11-10 to 2024-07-12\n"
     ]
    }
   ],
   "source": [
    "dates = LS9_SR_Filtered.aggregate_array(\"Date\").getInfo()\n",
    "print(\"Dates in Imagecollection: \", dates)\n",
    "#Print out the first and last dates of the created list\n",
    "first = dates[0]\n",
    "last = dates[-1]\n",
    "print(\"The image collection is from \" + first + \" to \" + last)"
   ]
  },
  {
   "cell_type": "markdown",
   "id": "6bb0aa32-4814-4c48-849d-4c1d6bb8832c",
   "metadata": {},
   "source": [
    "## Get all the names of the space crafts in the image collection"
   ]
  },
  {
   "cell_type": "code",
   "execution_count": 15,
   "id": "a0c1dfe7",
   "metadata": {},
   "outputs": [
    {
     "data": {
      "text/html": [
       "\n",
       "            <style>\n",
       "                .geemap-dark {\n",
       "                    --jp-widgets-color: white;\n",
       "                    --jp-widgets-label-color: white;\n",
       "                    --jp-ui-font-color1: white;\n",
       "                    --jp-layout-color2: #454545;\n",
       "                    background-color: #383838;\n",
       "                }\n",
       "                    \n",
       "                .geemap-dark .jupyter-button {\n",
       "                    --jp-layout-color3: #383838;\n",
       "                }\n",
       "                \n",
       "                .geemap-colab {\n",
       "                    background-color: var(--colab-primary-surface-color, white);\n",
       "                }\n",
       "                    \n",
       "                .geemap-colab .jupyter-button {\n",
       "                    --jp-layout-color3: var(--colab-primary-surface-color, white);\n",
       "                }\n",
       "            </style>\n",
       "            "
      ],
      "text/plain": [
       "<IPython.core.display.HTML object>"
      ]
     },
     "metadata": {},
     "output_type": "display_data"
    },
    {
     "name": "stdout",
     "output_type": "stream",
     "text": [
      "sensor:  ['LANDSAT_9', 'LANDSAT_9', 'LANDSAT_9', 'LANDSAT_9', 'LANDSAT_9', 'LANDSAT_9', 'LANDSAT_9', 'LANDSAT_9', 'LANDSAT_9', 'LANDSAT_9', 'LANDSAT_9', 'LANDSAT_9', 'LANDSAT_9', 'LANDSAT_9', 'LANDSAT_9', 'LANDSAT_9', 'LANDSAT_9', 'LANDSAT_9', 'LANDSAT_9', 'LANDSAT_9', 'LANDSAT_9', 'LANDSAT_9', 'LANDSAT_9', 'LANDSAT_9', 'LANDSAT_9', 'LANDSAT_9', 'LANDSAT_9', 'LANDSAT_9', 'LANDSAT_9', 'LANDSAT_9', 'LANDSAT_9', 'LANDSAT_9', 'LANDSAT_9', 'LANDSAT_9', 'LANDSAT_9', 'LANDSAT_9', 'LANDSAT_9', 'LANDSAT_9', 'LANDSAT_9', 'LANDSAT_9', 'LANDSAT_9', 'LANDSAT_9', 'LANDSAT_9', 'LANDSAT_9', 'LANDSAT_9', 'LANDSAT_9', 'LANDSAT_9', 'LANDSAT_9', 'LANDSAT_9', 'LANDSAT_9', 'LANDSAT_9']\n"
     ]
    }
   ],
   "source": [
    "sensor = LS9_SR_Filtered.aggregate_array(\"SPACECRAFT_ID\").getInfo()\n",
    "print(\"sensor: \", sensor)"
   ]
  },
  {
   "cell_type": "markdown",
   "id": "4fb8ee82-2c72-41e7-b459-dd68be3d11ed",
   "metadata": {},
   "source": [
    "## Function of selecting pixels of the QA_Pixel Band to mask out or preserve"
   ]
  },
  {
   "cell_type": "code",
   "execution_count": 16,
   "id": "38707310",
   "metadata": {},
   "outputs": [
    {
     "data": {
      "text/html": [
       "\n",
       "            <style>\n",
       "                .geemap-dark {\n",
       "                    --jp-widgets-color: white;\n",
       "                    --jp-widgets-label-color: white;\n",
       "                    --jp-ui-font-color1: white;\n",
       "                    --jp-layout-color2: #454545;\n",
       "                    background-color: #383838;\n",
       "                }\n",
       "                    \n",
       "                .geemap-dark .jupyter-button {\n",
       "                    --jp-layout-color3: #383838;\n",
       "                }\n",
       "                \n",
       "                .geemap-colab {\n",
       "                    background-color: var(--colab-primary-surface-color, white);\n",
       "                }\n",
       "                    \n",
       "                .geemap-colab .jupyter-button {\n",
       "                    --jp-layout-color3: var(--colab-primary-surface-color, white);\n",
       "                }\n",
       "            </style>\n",
       "            "
      ],
      "text/plain": [
       "<IPython.core.display.HTML object>"
      ]
     },
     "metadata": {},
     "output_type": "display_data"
    }
   ],
   "source": [
    "# A function to mask out cloud shadow pixels.\n",
    "def cloud_shadows(image):\n",
    "    QA = image.select(['QA_PIXEL'])\n",
    "    # Get the internal_cloud_algorithm_flag bit.\n",
    "    return getQABits(QA, 4,4, 'Cloud_shadows').eq(0)\n",
    "\n",
    "# A function to mask out cloudy pixels.\n",
    "def clouds(image):\n",
    "    # Select the QA band.\n",
    "    QA = image.select(['QA_PIXEL'])\n",
    "    # Get the internal_cloud_algorithm_flag bit.\n",
    "    return getQABits(QA, 3,3, 'Cloud').eq(0)\n",
    "       \n",
    "# A function to preserve water pixels.\n",
    "def water(image):\n",
    "    QA = image.select(['QA_PIXEL'])\n",
    "    # Get the internal_cloud_algorithm_flag bit.\n",
    "    return getQABits(QA, 7,7, 'Water').neq(0) "
   ]
  },
  {
   "cell_type": "markdown",
   "id": "8ccf04ab-d4d9-412c-8e36-7987dc429070",
   "metadata": {},
   "source": [
    "## Function of creating a multi mask layer to clip it out of the whole image"
   ]
  },
  {
   "cell_type": "code",
   "execution_count": 17,
   "id": "d45e1f86",
   "metadata": {},
   "outputs": [
    {
     "data": {
      "text/html": [
       "\n",
       "            <style>\n",
       "                .geemap-dark {\n",
       "                    --jp-widgets-color: white;\n",
       "                    --jp-widgets-label-color: white;\n",
       "                    --jp-ui-font-color1: white;\n",
       "                    --jp-layout-color2: #454545;\n",
       "                    background-color: #383838;\n",
       "                }\n",
       "                    \n",
       "                .geemap-dark .jupyter-button {\n",
       "                    --jp-layout-color3: #383838;\n",
       "                }\n",
       "                \n",
       "                .geemap-colab {\n",
       "                    background-color: var(--colab-primary-surface-color, white);\n",
       "                }\n",
       "                    \n",
       "                .geemap-colab .jupyter-button {\n",
       "                    --jp-layout-color3: var(--colab-primary-surface-color, white);\n",
       "                }\n",
       "            </style>\n",
       "            "
      ],
      "text/plain": [
       "<IPython.core.display.HTML object>"
      ]
     },
     "metadata": {},
     "output_type": "display_data"
    }
   ],
   "source": [
    "def maskClouds(image):\n",
    "    cs = cloud_shadows(image)\n",
    "    c = clouds(image)\n",
    "    w = water(image)\n",
    "    image = image.updateMask(cs).updateMask(c)\n",
    "    return image.updateMask(w)"
   ]
  },
  {
   "cell_type": "markdown",
   "id": "99ea0efe-d6c6-4a8f-ad46-777cfad406bd",
   "metadata": {},
   "source": [
    "## Clip out the entire image to the dimensions of the water body boundary feature class"
   ]
  },
  {
   "cell_type": "code",
   "execution_count": 18,
   "id": "dc8f616f",
   "metadata": {},
   "outputs": [
    {
     "data": {
      "text/html": [
       "\n",
       "            <style>\n",
       "                .geemap-dark {\n",
       "                    --jp-widgets-color: white;\n",
       "                    --jp-widgets-label-color: white;\n",
       "                    --jp-ui-font-color1: white;\n",
       "                    --jp-layout-color2: #454545;\n",
       "                    background-color: #383838;\n",
       "                }\n",
       "                    \n",
       "                .geemap-dark .jupyter-button {\n",
       "                    --jp-layout-color3: #383838;\n",
       "                }\n",
       "                \n",
       "                .geemap-colab {\n",
       "                    background-color: var(--colab-primary-surface-color, white);\n",
       "                }\n",
       "                    \n",
       "                .geemap-colab .jupyter-button {\n",
       "                    --jp-layout-color3: var(--colab-primary-surface-color, white);\n",
       "                }\n",
       "            </style>\n",
       "            "
      ],
      "text/plain": [
       "<IPython.core.display.HTML object>"
      ]
     },
     "metadata": {},
     "output_type": "display_data"
    }
   ],
   "source": [
    "#Clip out all pixels that are in the TN River boundary and save as a new Image Collection using the lambda function\n",
    "LS9_SR_Clip = LS9_SR_Filtered.map(lambda image: image.clip(TN_River))"
   ]
  },
  {
   "cell_type": "markdown",
   "id": "d44fe447-9308-4d80-aa6a-6f0ee0ac878b",
   "metadata": {},
   "source": [
    "## Run the multimask function on the entire image to remove clouds, cloud shadows, and land pixels"
   ]
  },
  {
   "cell_type": "code",
   "execution_count": 19,
   "id": "94287daa",
   "metadata": {},
   "outputs": [
    {
     "data": {
      "text/html": [
       "\n",
       "            <style>\n",
       "                .geemap-dark {\n",
       "                    --jp-widgets-color: white;\n",
       "                    --jp-widgets-label-color: white;\n",
       "                    --jp-ui-font-color1: white;\n",
       "                    --jp-layout-color2: #454545;\n",
       "                    background-color: #383838;\n",
       "                }\n",
       "                    \n",
       "                .geemap-dark .jupyter-button {\n",
       "                    --jp-layout-color3: #383838;\n",
       "                }\n",
       "                \n",
       "                .geemap-colab {\n",
       "                    background-color: var(--colab-primary-surface-color, white);\n",
       "                }\n",
       "                    \n",
       "                .geemap-colab .jupyter-button {\n",
       "                    --jp-layout-color3: var(--colab-primary-surface-color, white);\n",
       "                }\n",
       "            </style>\n",
       "            "
      ],
      "text/plain": [
       "<IPython.core.display.HTML object>"
      ]
     },
     "metadata": {},
     "output_type": "display_data"
    }
   ],
   "source": [
    "#Apply each equation to the clipped pixels that are in the TN River boundary\n",
    "LS9_SR_Clip_Water = LS9_SR_Clip.map(maskClouds)"
   ]
  },
  {
   "cell_type": "markdown",
   "id": "803fbeff-a5bb-4485-be38-a366e64c34b4",
   "metadata": {},
   "source": [
    "## Function that scales a bands DN values to reflectance values and applies a modeling on the pixels to convert it to desired parameters like NTU or Chlorophyll"
   ]
  },
  {
   "cell_type": "code",
   "execution_count": 20,
   "id": "b2d80644",
   "metadata": {},
   "outputs": [
    {
     "data": {
      "text/html": [
       "\n",
       "            <style>\n",
       "                .geemap-dark {\n",
       "                    --jp-widgets-color: white;\n",
       "                    --jp-widgets-label-color: white;\n",
       "                    --jp-ui-font-color1: white;\n",
       "                    --jp-layout-color2: #454545;\n",
       "                    background-color: #383838;\n",
       "                }\n",
       "                    \n",
       "                .geemap-dark .jupyter-button {\n",
       "                    --jp-layout-color3: #383838;\n",
       "                }\n",
       "                \n",
       "                .geemap-colab {\n",
       "                    background-color: var(--colab-primary-surface-color, white);\n",
       "                }\n",
       "                    \n",
       "                .geemap-colab .jupyter-button {\n",
       "                    --jp-layout-color3: var(--colab-primary-surface-color, white);\n",
       "                }\n",
       "            </style>\n",
       "            "
      ],
      "text/plain": [
       "<IPython.core.display.HTML object>"
      ]
     },
     "metadata": {},
     "output_type": "display_data"
    }
   ],
   "source": [
    "#Create fucntion that calcualtes the Quantitative index \n",
    "def QUANT(image):\n",
    "    red = image.select('Red') #Create a variable that selects the red band\n",
    "    scale = red.multiply(0.0000275).add(-0.2)\n",
    "    #Run the '2677.2 * (pow(Red, 1.856))' equation from https://www.researchgate.net/publication/354736333_Remote_Sensing_of_Turbidity_in_the_Tennessee_River_Using_Landsat_8_Satellite on page 14\n",
    "    quant = (((scale.pow(1.856)).multiply(2677.2)).toFloat()).rename('QUANT') #Will have to change this if you found a different band and equation to use\n",
    "    return quant"
   ]
  },
  {
   "cell_type": "markdown",
   "id": "8829a3c7-6169-4597-8b62-b69096005f94",
   "metadata": {},
   "source": [
    "## Apply the scaling and modeling function on the preprocessed image collections "
   ]
  },
  {
   "cell_type": "code",
   "execution_count": 21,
   "id": "160597fd",
   "metadata": {},
   "outputs": [
    {
     "data": {
      "text/html": [
       "\n",
       "            <style>\n",
       "                .geemap-dark {\n",
       "                    --jp-widgets-color: white;\n",
       "                    --jp-widgets-label-color: white;\n",
       "                    --jp-ui-font-color1: white;\n",
       "                    --jp-layout-color2: #454545;\n",
       "                    background-color: #383838;\n",
       "                }\n",
       "                    \n",
       "                .geemap-dark .jupyter-button {\n",
       "                    --jp-layout-color3: #383838;\n",
       "                }\n",
       "                \n",
       "                .geemap-colab {\n",
       "                    background-color: var(--colab-primary-surface-color, white);\n",
       "                }\n",
       "                    \n",
       "                .geemap-colab .jupyter-button {\n",
       "                    --jp-layout-color3: var(--colab-primary-surface-color, white);\n",
       "                }\n",
       "            </style>\n",
       "            "
      ],
      "text/plain": [
       "<IPython.core.display.HTML object>"
      ]
     },
     "metadata": {},
     "output_type": "display_data"
    }
   ],
   "source": [
    "LS9_SR_Clip_Water_Quant = LS9_SR_Clip_Water.map(QUANT)"
   ]
  },
  {
   "cell_type": "markdown",
   "id": "154bdbe4-dc3c-4aba-ae6e-d0f2e59986f9",
   "metadata": {},
   "source": [
    "## Create a list and count the number of images to be later used to export the whole filetered image collection"
   ]
  },
  {
   "cell_type": "code",
   "execution_count": 22,
   "id": "2d79ce17",
   "metadata": {},
   "outputs": [
    {
     "data": {
      "text/html": [
       "\n",
       "            <style>\n",
       "                .geemap-dark {\n",
       "                    --jp-widgets-color: white;\n",
       "                    --jp-widgets-label-color: white;\n",
       "                    --jp-ui-font-color1: white;\n",
       "                    --jp-layout-color2: #454545;\n",
       "                    background-color: #383838;\n",
       "                }\n",
       "                    \n",
       "                .geemap-dark .jupyter-button {\n",
       "                    --jp-layout-color3: #383838;\n",
       "                }\n",
       "                \n",
       "                .geemap-colab {\n",
       "                    background-color: var(--colab-primary-surface-color, white);\n",
       "                }\n",
       "                    \n",
       "                .geemap-colab .jupyter-button {\n",
       "                    --jp-layout-color3: var(--colab-primary-surface-color, white);\n",
       "                }\n",
       "            </style>\n",
       "            "
      ],
      "text/plain": [
       "<IPython.core.display.HTML object>"
      ]
     },
     "metadata": {},
     "output_type": "display_data"
    }
   ],
   "source": [
    "#Create a list that collects that orders the images so they can be mapped to the dates\n",
    "LS9_SR_Clip_Water_Quant_List = LS9_SR_Clip_Water_Quant.toList(LS9_SR_Clip_Water_Quant.size())"
   ]
  },
  {
   "cell_type": "markdown",
   "id": "49345f75-91ce-4797-9803-7c687d188f29",
   "metadata": {},
   "source": [
    "## Create a for loop that exports all images to a folder in your local drive or your Google drive"
   ]
  },
  {
   "cell_type": "code",
   "execution_count": null,
   "id": "1111278a",
   "metadata": {},
   "outputs": [],
   "source": [
    "#QUANT iterate images to add map to layer, export to local directory, and export to Google Drive\n",
    "for index in range(0, All_count_preprocess):\n",
    "    image = ee.Image(LS9_SR_Clip_Water_Quant_List.get(index))\n",
    "    layer_name = \"QUANT_\" + str(dates[index]) + \"_\" + str(sensor[index])\n",
    "    #Map.addLayer(image, ndssiVis, layer_name, False) #Uncomment this line if you would like to see the image in the map window of the GEE map interactive\n",
    "    #QUANT_file = os.path.join(r'D:\\Thesis\\ASPRS\\GEE_Assessment\\Data\\Rasters\\Quant_Test', layer_name + \".tif\") #Uncomment this line if you would like to create a path to a local folder on your computer to export\n",
    "    #geemap.ee_export_image(image, filename = QUANT_file, scale = 30, region = TN_RiverGeom, file_per_band = True) #Uncomment this line if you would like to export the data localy to the declared folder. Note: Big image exports won't work\n",
    "    geemap.ee_export_image_to_drive(image, description = layer_name, folder = 'LS9_QUANT_' + first + '_to_' + last, region = TN_RiverGeom, scale = 30) #Use for big image exports. Veiw progress at https://code.earthengine.google.com/tasks"
   ]
  },
  {
   "cell_type": "code",
   "execution_count": null,
   "id": "799a9f56",
   "metadata": {},
   "outputs": [],
   "source": []
  }
 ],
 "metadata": {
  "kernelspec": {
   "display_name": "Python 3 (ipykernel)",
   "language": "python",
   "name": "python3"
  },
  "language_info": {
   "codemirror_mode": {
    "name": "ipython",
    "version": 3
   },
   "file_extension": ".py",
   "mimetype": "text/x-python",
   "name": "python",
   "nbconvert_exporter": "python",
   "pygments_lexer": "ipython3",
   "version": "3.10.13"
  }
 },
 "nbformat": 4,
 "nbformat_minor": 5
}
